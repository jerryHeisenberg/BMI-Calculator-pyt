{
  "nbformat": 4,
  "nbformat_minor": 0,
  "metadata": {
    "colab": {
      "provenance": [],
      "mount_file_id": "1EkNcVpkQRt5yyY3hF-dYYP64O788LUIP",
      "authorship_tag": "ABX9TyMjqqPvSR2DbIBg1B3dgCjl",
      "include_colab_link": true
    },
    "kernelspec": {
      "name": "python3",
      "display_name": "Python 3"
    },
    "language_info": {
      "name": "python"
    }
  },
  "cells": [
    {
      "cell_type": "markdown",
      "metadata": {
        "id": "view-in-github",
        "colab_type": "text"
      },
      "source": [
        "<a href=\"https://colab.research.google.com/github/jerryHeisenberg/Final-Projects/blob/main/Autism_in_Children.ipynb\" target=\"_parent\"><img src=\"https://colab.research.google.com/assets/colab-badge.svg\" alt=\"Open In Colab\"/></a>"
      ]
    },
    {
      "cell_type": "code",
      "execution_count": 2,
      "metadata": {
        "id": "F_Zm_tQtAmVz"
      },
      "outputs": [],
      "source": [
        "!pip install comet_ml > /dev/null 2>&1"
      ]
    },
    {
      "cell_type": "code",
      "source": [
        "from comet_ml import Experiment\n",
        "import tensorflow as tf\n",
        "import numpy as np\n",
        "import os\n",
        "import cv2\n",
        "from google.colab import drive\n",
        "drive.mount('/content/drive/', force_remount=True)\n"
      ],
      "metadata": {
        "colab": {
          "base_uri": "https://localhost:8080/"
        },
        "id": "1EUCCmpTBM7T",
        "outputId": "a9a16f23-8877-438a-cc14-086f9431f16d"
      },
      "execution_count": 32,
      "outputs": [
        {
          "output_type": "stream",
          "name": "stdout",
          "text": [
            "Mounted at /content/drive/\n"
          ]
        }
      ]
    },
    {
      "cell_type": "code",
      "source": [
        "def load_images_data_from_directory(directory, target_size=(256,256)):\n",
        "  images=[]\n",
        "  labels =[]\n",
        "  for root,_, files in os.walk(directory):\n",
        "    for filename in files:\n",
        "      if filename.endswith(\".jpg\"):\n",
        "        label_name = os.path.basename(os.path.dirname(root))\n",
        "        label= 1 if label_name == \"Autistic\" else 0\n",
        "        img_path = os.path.join(root,filename)\n",
        "        img = cv2.imread(img_path)\n",
        "        img = cv2.resize(img, target_size)\n",
        "        img =img.astype('float32')/255.0\n",
        "        images.append(img)\n",
        "        labels.append(label)\n",
        "  return np.array(images), np.array(labels)\n",
        ""
      ],
      "metadata": {
        "id": "U1K-NUkVc0jx"
      },
      "execution_count": 48,
      "outputs": []
    },
    {
      "cell_type": "code",
      "source": [
        "experiment = Experiment(api_key = \"fjasnw5RFV2HeIVIdLDhHpdyk\",\n",
        "                        project_name=\"Autism Detection System\")\n"
      ],
      "metadata": {
        "colab": {
          "base_uri": "https://localhost:8080/"
        },
        "id": "hq5ZsZmAUCVv",
        "outputId": "fcd49ece-8863-4498-ecae-9a479ed574a3"
      },
      "execution_count": 6,
      "outputs": [
        {
          "output_type": "stream",
          "name": "stderr",
          "text": [
            "\u001b[1;38;5;214mCOMET WARNING:\u001b[0m As you are running in a Jupyter environment, you will need to call `experiment.end()` when finished to ensure all metrics and code are logged before exiting.\n",
            "\u001b[1;38;5;39mCOMET INFO:\u001b[0m Couldn't find a Git repository in '/content' nor in any parent directory. Set `COMET_GIT_DIRECTORY` if your Git Repository is elsewhere.\n",
            "\u001b[1;38;5;39mCOMET INFO:\u001b[0m Experiment is live on comet.com https://www.comet.com/jerryheisenberg/autism-detection-system/c44bed3ba8a646d2843bb59cd7b3d141\n",
            "\n"
          ]
        }
      ]
    },
    {
      "cell_type": "code",
      "source": [
        "experiment.log_parameter(\"training_data_path\", \"/content/drive/MyDrive/AutismDataset/train\")\n",
        "experiment.log_parameter(\"validation_data_path\",\"/content/drive/MyDrive/AutismDataset/valid\")\n",
        "experiment.log_parameter(\"test_data_path\",\"/content/drive/MyDrive/AutismDataset/test\")\n"
      ],
      "metadata": {
        "id": "3VWDRBSVVc8H"
      },
      "execution_count": 39,
      "outputs": []
    },
    {
      "cell_type": "code",
      "source": [
        "train_images,train_labels = load_images_data_from_directory(\"/content/drive/MyDrive/AutismDataset/train\")\n",
        "print(\"train images shape:\", train_images.shape)\n",
        "print(\"Train labels shape:\", train_labels.shape)\n",
        "valid_images,valid_labels = load_images_data_from_directory(\"/content/drive/MyDrive/AutismDataset/valid\")\n",
        "print(\"Valid images shape:\", valid_images.shape)\n",
        "print(\"Valid labels shape:\", valid_labels.shape)\n",
        "test_images,test_labels = load_images_data_from_directory(\"/content/drive/MyDrive/AutismDataset/test\")\n",
        "print(\"test images shape:\", test_images.shape)\n",
        "print(\"Test labels shape:\", test_labels.shape)"
      ],
      "metadata": {
        "colab": {
          "base_uri": "https://localhost:8080/"
        },
        "id": "zTfw1NsPfgs5",
        "outputId": "9bff55a9-d82f-44c8-f4e9-7b032b399a95"
      },
      "execution_count": 50,
      "outputs": [
        {
          "output_type": "stream",
          "name": "stdout",
          "text": [
            "train images shape: (2540, 256, 256, 3)\n",
            "Train labels shape: (2540,)\n",
            "Valid images shape: (100, 256, 256, 3)\n",
            "Valid labels shape: (100,)\n",
            "test images shape: (300, 256, 256, 3)\n",
            "Test labels shape: (300,)\n"
          ]
        }
      ]
    },
    {
      "cell_type": "code",
      "source": [
        "print(\"test data:\", os.listdir(\"/content/drive/MyDrive/AutismDataset/train\"))"
      ],
      "metadata": {
        "colab": {
          "base_uri": "https://localhost:8080/"
        },
        "id": "RQrNwJ52FHke",
        "outputId": "0b66bfa3-d407-45a2-e6ca-77e3aa1b4e86"
      },
      "execution_count": 45,
      "outputs": [
        {
          "output_type": "stream",
          "name": "stdout",
          "text": [
            "test data: ['Autistic.994.jpg', 'Non_Autistic.180.jpg', 'Autistic.987.jpg', 'Non_Autistic.290.jpg', 'Non_Autistic.1160.jpg', 'Non_Autistic.2.jpg', 'Non_Autistic.1116.jpg', 'Non_Autistic.1056.jpg', 'Autistic.990.jpg', 'Non_Autistic.1027.jpg', 'Non_Autistic.218.jpg', 'Non_Autistic.266.jpg', 'Non_Autistic.224.jpg', 'Non_Autistic.1243.jpg', 'Non_Autistic.193.jpg', 'Non_Autistic.1179.jpg', 'Non_Autistic.1137.jpg', 'Non_Autistic.1221.jpg', 'Non_Autistic.1076.jpg', 'Non_Autistic.1046.jpg', 'Non_Autistic.1058.jpg', 'Non_Autistic.1201.jpg', 'Autistic.92.jpg', 'Non_Autistic.1149.jpg', 'Non_Autistic.191.jpg', 'Non_Autistic.1086.jpg', 'Non_Autistic.229.jpg', 'Non_Autistic.1226.jpg', 'Non_Autistic.1072.jpg', 'Non_Autistic.1125.jpg', 'Non_Autistic.230.jpg', 'Non_Autistic.271.jpg', 'Autistic.986.jpg', 'Non_Autistic.1153.jpg', 'Non_Autistic.115.jpg', 'Non_Autistic.1184.jpg', 'Autistic.99.jpg', 'Non_Autistic.21.jpg', 'Non_Autistic.302.jpg', 'Non_Autistic.1235.jpg', 'Autistic.926.jpg', 'Autistic.920.jpg', 'Non_Autistic.30.jpg', 'Non_Autistic.186.jpg', 'Non_Autistic.154.jpg', 'Non_Autistic.1236.jpg', 'Autistic.97.jpg', 'Non_Autistic.1229.jpg', 'Non_Autistic.1019.jpg', 'Non_Autistic.1168.jpg', 'Non_Autistic.141.jpg', 'Autistic.934.jpg', 'Autistic.921.jpg', 'Non_Autistic.135.jpg', 'Non_Autistic.1078.jpg', 'Non_Autistic.22.jpg', 'Non_Autistic.184.jpg', 'Non_Autistic.1164.jpg', 'Autistic.938.jpg', 'Autistic.922.jpg', 'Non_Autistic.297.jpg', 'Non_Autistic.132.jpg', 'Non_Autistic.137.jpg', 'Non_Autistic.1068.jpg', 'Non_Autistic.301.jpg', 'Non_Autistic.1199.jpg', 'Non_Autistic.221.jpg', 'Non_Autistic.1256.jpg', 'Non_Autistic.1190.jpg', 'Non_Autistic.142.jpg', 'Non_Autistic.1220.jpg', 'Non_Autistic.1163.jpg', 'Autistic.971.jpg', 'Autistic.890.jpg', 'Non_Autistic.146.jpg', 'Non_Autistic.1158.jpg', 'Non_Autistic.1073.jpg', 'Non_Autistic.1028.jpg', 'Non_Autistic.295.jpg', 'Non_Autistic.1134.jpg', 'Non_Autistic.138.jpg', 'Non_Autistic.1082.jpg', 'Non_Autistic.251.jpg', 'Non_Autistic.1202.jpg', 'Non_Autistic.1105.jpg', 'Non_Autistic.1099.jpg', 'Non_Autistic.1216.jpg', 'Autistic.923.jpg', 'Non_Autistic.14.jpg', 'Non_Autistic.1124.jpg', 'Autistic.960.jpg', 'Non_Autistic.1189.jpg', 'Non_Autistic.1261.jpg', 'Non_Autistic.1119.jpg', 'Non_Autistic.1135.jpg', 'Non_Autistic.1245.jpg', 'Non_Autistic.188.jpg', 'Non_Autistic.1047.jpg', 'Non_Autistic.109.jpg', 'Non_Autistic.262.jpg', 'Non_Autistic.1241.jpg', 'Non_Autistic.1029.jpg', 'Non_Autistic.1192.jpg', 'Non_Autistic.1147.jpg', 'Non_Autistic.259.jpg', 'Non_Autistic.217.jpg', 'Non_Autistic.104.jpg', 'Non_Autistic.155.jpg', 'Non_Autistic.1234.jpg', 'Autistic.913.jpg', 'Autistic.946.jpg', 'Autistic.985.jpg', 'Autistic.968.jpg', 'Autistic.957.jpg', 'Non_Autistic.1053.jpg', 'Non_Autistic.181.jpg', 'Autistic.977.jpg', 'Non_Autistic.292.jpg', 'Non_Autistic.151.jpg', 'Autistic.952.jpg', 'Non_Autistic.1039.jpg', 'Autistic.924.jpg', 'Autistic.969.jpg', 'Non_Autistic.187.jpg', 'Autistic.917.jpg', 'Autistic.901.jpg', 'Autistic.939.jpg', 'Non_Autistic.1200.jpg', 'Non_Autistic.1260.jpg', 'Non_Autistic.250.jpg', 'Autistic.940.jpg', 'Non_Autistic.1206.jpg', 'Non_Autistic.1043.jpg', 'Non_Autistic.145.jpg', 'Non_Autistic.1159.jpg', 'Non_Autistic.1023.jpg', 'Non_Autistic.241.jpg', 'Non_Autistic.196.jpg', 'Non_Autistic.183.jpg', 'Non_Autistic.1041.jpg', 'Non_Autistic.1250.jpg', 'Non_Autistic.1007.jpg', 'Non_Autistic.1079.jpg', 'Non_Autistic.283.jpg', 'Non_Autistic.1195.jpg', 'Autistic.936.jpg', 'Non_Autistic.1232.jpg', 'Non_Autistic.194.jpg', 'Non_Autistic.125.jpg', 'Non_Autistic.1196.jpg', 'Non_Autistic.1166.jpg', 'Non_Autistic.1118.jpg', 'Non_Autistic.130.jpg', 'Non_Autistic.1075.jpg', 'Non_Autistic.1111.jpg', 'Non_Autistic.1114.jpg', 'Autistic.941.jpg', 'Non_Autistic.228.jpg', 'Non_Autistic.1083.jpg', 'Non_Autistic.258.jpg', 'Autistic.954.jpg', 'Non_Autistic.1009.jpg', 'Non_Autistic.157.jpg', 'Non_Autistic.204.jpg', 'Non_Autistic.1267.jpg', 'Non_Autistic.264.jpg', 'Non_Autistic.150.jpg', 'Autistic.944.jpg', 'Non_Autistic.299.jpg', 'Non_Autistic.281.jpg', 'Non_Autistic.100.jpg', 'Non_Autistic.1142.jpg', 'Non_Autistic.1171.jpg', 'Non_Autistic.1230.jpg', 'Non_Autistic.1212.jpg', 'Non_Autistic.1138.jpg', 'Non_Autistic.208.jpg', 'Non_Autistic.147.jpg', 'Non_Autistic.11.jpg', 'Non_Autistic.1224.jpg', 'Non_Autistic.1127.jpg', 'Non_Autistic.25.jpg', 'Non_Autistic.1162.jpg', 'Non_Autistic.1169.jpg', 'Non_Autistic.240.jpg', 'Non_Autistic.195.jpg', 'Autistic.980.jpg', 'Non_Autistic.1157.jpg', 'Autistic.93.jpg', 'Non_Autistic.1193.jpg', 'Non_Autistic.1246.jpg', 'Non_Autistic.171.jpg', 'Non_Autistic.1090.jpg', 'Autistic.997.jpg', 'Non_Autistic.127.jpg', 'Non_Autistic.1085.jpg', 'Non_Autistic.1265.jpg', 'Autistic.951.jpg', 'Non_Autistic.1170.jpg', 'Non_Autistic.1130.jpg', 'Non_Autistic.1263.jpg', 'Non_Autistic.1181.jpg', 'Non_Autistic.168.jpg', 'Non_Autistic.1113.jpg', 'Non_Autistic.16.jpg', 'Autistic.898.jpg', 'Non_Autistic.1066.jpg', 'Non_Autistic.1167.jpg', 'Non_Autistic.148.jpg', 'Non_Autistic.106.jpg', 'Non_Autistic.280.jpg', 'Autistic.995.jpg', 'Non_Autistic.1013.jpg', 'Non_Autistic.1198.jpg', 'Non_Autistic.1015.jpg', 'Non_Autistic.114.jpg', 'Non_Autistic.1034.jpg', 'Non_Autistic.1020.jpg', 'Non_Autistic.29.jpg', 'Non_Autistic.212.jpg', 'Non_Autistic.265.jpg', 'Non_Autistic.226.jpg', 'Autistic.945.jpg', 'Autistic.911.jpg', 'Non_Autistic.1165.jpg', 'Non_Autistic.1257.jpg', 'Autistic.949.jpg', 'Non_Autistic.20.jpg', 'Non_Autistic.1087.jpg', 'Non_Autistic.513.jpg', 'Non_Autistic.356.jpg', 'Non_Autistic.382.jpg', 'Non_Autistic.479.jpg', 'Non_Autistic.345.jpg', 'Non_Autistic.633.jpg', 'Non_Autistic.503.jpg', 'Non_Autistic.604.jpg', 'Non_Autistic.5.jpg', 'Non_Autistic.474.jpg', 'Non_Autistic.478.jpg', 'Non_Autistic.562.jpg', 'Non_Autistic.546.jpg', 'Non_Autistic.334.jpg', 'Non_Autistic.598.jpg', 'Non_Autistic.564.jpg', 'Non_Autistic.349.jpg', 'Non_Autistic.313.jpg', 'Non_Autistic.383.jpg', 'Non_Autistic.454.jpg', 'Non_Autistic.646.jpg', 'Non_Autistic.49.jpg', 'Non_Autistic.651.jpg', 'Non_Autistic.635.jpg', 'Non_Autistic.402.jpg', 'Non_Autistic.493.jpg', 'Non_Autistic.538.jpg', 'Non_Autistic.34.jpg', 'Non_Autistic.607.jpg', 'Non_Autistic.518.jpg', 'Non_Autistic.616.jpg', 'Non_Autistic.505.jpg', 'Non_Autistic.465.jpg', 'Non_Autistic.649.jpg', 'Non_Autistic.641.jpg', 'Non_Autistic.310.jpg', 'Non_Autistic.593.jpg', 'Non_Autistic.526.jpg', 'Non_Autistic.610.jpg', 'Non_Autistic.325.jpg', 'Non_Autistic.644.jpg', 'Non_Autistic.525.jpg', 'Non_Autistic.580.jpg', 'Non_Autistic.657.jpg', 'Non_Autistic.466.jpg', 'Non_Autistic.375.jpg', 'Non_Autistic.647.jpg', 'Non_Autistic.449.jpg', 'Non_Autistic.35.jpg', 'Non_Autistic.33.jpg', 'Non_Autistic.340.jpg', 'Non_Autistic.437.jpg', 'Non_Autistic.631.jpg', 'Non_Autistic.363.jpg', 'Non_Autistic.556.jpg', 'Non_Autistic.654.jpg', 'Non_Autistic.4.jpg', 'Non_Autistic.528.jpg', 'Non_Autistic.626.jpg', 'Non_Autistic.532.jpg', 'Non_Autistic.522.jpg', 'Non_Autistic.571.jpg', 'Non_Autistic.615.jpg', 'Non_Autistic.344.jpg', 'Non_Autistic.445.jpg', 'Non_Autistic.660.jpg', 'Non_Autistic.59.jpg', 'Non_Autistic.573.jpg', 'Non_Autistic.343.jpg', 'Non_Autistic.601.jpg', 'Non_Autistic.45.jpg', 'Non_Autistic.55.jpg', 'Non_Autistic.519.jpg', 'Non_Autistic.627.jpg', 'Non_Autistic.428.jpg', 'Non_Autistic.306.jpg', 'Non_Autistic.48.jpg', 'Non_Autistic.46.jpg', 'Non_Autistic.483.jpg', 'Non_Autistic.338.jpg', 'Non_Autistic.648.jpg', 'Non_Autistic.408.jpg', 'Non_Autistic.384.jpg', 'Non_Autistic.396.jpg', 'Non_Autistic.473.jpg', 'Non_Autistic.435.jpg', 'Non_Autistic.348.jpg', 'Non_Autistic.469.jpg', 'Non_Autistic.47.jpg', 'Non_Autistic.599.jpg', 'Non_Autistic.614.jpg', 'Non_Autistic.352.jpg', 'Non_Autistic.316.jpg', 'Non_Autistic.381.jpg', 'Non_Autistic.413.jpg', 'Non_Autistic.543.jpg', 'Non_Autistic.415.jpg', 'Non_Autistic.354.jpg', 'Non_Autistic.424.jpg', 'Non_Autistic.600.jpg', 'Non_Autistic.432.jpg', 'Non_Autistic.318.jpg', 'Non_Autistic.617.jpg', 'Non_Autistic.477.jpg', 'Non_Autistic.43.jpg', 'Non_Autistic.586.jpg', 'Non_Autistic.447.jpg', 'Non_Autistic.409.jpg', 'Non_Autistic.376.jpg', 'Non_Autistic.640.jpg', 'Non_Autistic.328.jpg', 'Non_Autistic.40.jpg', 'Non_Autistic.36.jpg', 'Non_Autistic.427.jpg', 'Non_Autistic.441.jpg', 'Non_Autistic.530.jpg', 'Non_Autistic.489.jpg', 'Non_Autistic.584.jpg', 'Non_Autistic.520.jpg', 'Non_Autistic.540.jpg', 'Non_Autistic.480.jpg', 'Non_Autistic.422.jpg', 'Non_Autistic.551.jpg', 'Non_Autistic.655.jpg', 'Non_Autistic.314.jpg', 'Non_Autistic.595.jpg', 'Non_Autistic.464.jpg', 'Non_Autistic.527.jpg', 'Non_Autistic.611.jpg', 'Non_Autistic.57.jpg', 'Non_Autistic.451.jpg', 'Non_Autistic.420.jpg', 'Non_Autistic.476.jpg', 'Non_Autistic.44.jpg', 'Non_Autistic.514.jpg', 'Non_Autistic.500.jpg', 'Non_Autistic.391.jpg', 'Non_Autistic.433.jpg', 'Non_Autistic.378.jpg', 'Non_Autistic.596.jpg', 'Non_Autistic.623.jpg', 'Non_Autistic.321.jpg', 'Non_Autistic.468.jpg', 'Non_Autistic.397.jpg', 'Non_Autistic.582.jpg', 'Non_Autistic.591.jpg', 'Non_Autistic.484.jpg', 'Non_Autistic.553.jpg', 'Non_Autistic.496.jpg', 'Non_Autistic.606.jpg', 'Non_Autistic.442.jpg', 'Non_Autistic.359.jpg', 'Non_Autistic.330.jpg', 'Non_Autistic.539.jpg', 'Non_Autistic.61.jpg', 'Non_Autistic.360.jpg', 'Non_Autistic.64.jpg', 'Non_Autistic.31.jpg', 'Non_Autistic.326.jpg', 'Non_Autistic.315.jpg', 'Non_Autistic.365.jpg', 'Non_Autistic.575.jpg', 'Non_Autistic.452.jpg', 'Non_Autistic.37.jpg', 'Non_Autistic.491.jpg', 'Non_Autistic.495.jpg', 'Non_Autistic.327.jpg', 'Non_Autistic.333.jpg', 'Non_Autistic.559.jpg', 'Non_Autistic.531.jpg', 'Non_Autistic.537.jpg', 'Non_Autistic.453.jpg', 'Non_Autistic.455.jpg', 'Non_Autistic.53.jpg', 'Non_Autistic.440.jpg', 'Non_Autistic.511.jpg', 'Non_Autistic.62.jpg', 'Non_Autistic.533.jpg', 'Non_Autistic.516.jpg', 'Non_Autistic.399.jpg', 'Non_Autistic.488.jpg', 'Non_Autistic.645.jpg', 'Non_Autistic.578.jpg', 'Non_Autistic.304.jpg', 'Non_Autistic.612.jpg', 'Non_Autistic.545.jpg', 'Non_Autistic.320.jpg', 'Non_Autistic.662.jpg', 'Non_Autistic.371.jpg', 'Non_Autistic.566.jpg', 'Non_Autistic.577.jpg', 'Non_Autistic.394.jpg', 'Non_Autistic.560.jpg', 'Non_Autistic.557.jpg', 'Non_Autistic.508.jpg', 'Non_Autistic.342.jpg', 'Non_Autistic.549.jpg', 'Non_Autistic.317.jpg', 'Non_Autistic.658.jpg', 'Non_Autistic.661.jpg', 'Non_Autistic.588.jpg', 'Non_Autistic.456.jpg', 'Non_Autistic.366.jpg', 'Non_Autistic.372.jpg', 'Non_Autistic.377.jpg', 'Non_Autistic.494.jpg', 'Non_Autistic.355.jpg', 'Non_Autistic.490.jpg', 'Non_Autistic.410.jpg', 'Non_Autistic.609.jpg', 'Non_Autistic.58.jpg', 'Non_Autistic.460.jpg', 'Non_Autistic.501.jpg', 'Non_Autistic.554.jpg', 'Non_Autistic.322.jpg', 'Non_Autistic.521.jpg', 'Non_Autistic.470.jpg', 'Non_Autistic.457.jpg', 'Non_Autistic.385.jpg', 'Non_Autistic.430.jpg', 'Non_Autistic.502.jpg', 'Non_Autistic.653.jpg', 'Non_Autistic.622.jpg', 'Non_Autistic.361.jpg', 'Non_Autistic.459.jpg', 'Non_Autistic.337.jpg', 'Non_Autistic.341.jpg', 'Non_Autistic.634.jpg', 'Non_Autistic.370.jpg', 'Non_Autistic.589.jpg', 'Non_Autistic.324.jpg', 'Non_Autistic.350.jpg', 'Non_Autistic.358.jpg', 'Non_Autistic.416.jpg', 'Non_Autistic.572.jpg', 'Non_Autistic.462.jpg', 'Non_Autistic.39.jpg', 'Non_Autistic.429.jpg', 'Non_Autistic.395.jpg', 'Non_Autistic.54.jpg', 'Non_Autistic.497.jpg', 'Non_Autistic.544.jpg', 'Non_Autistic.541.jpg', 'Non_Autistic.448.jpg', 'Non_Autistic.63.jpg', 'Non_Autistic.308.jpg', 'Non_Autistic.373.jpg', 'Non_Autistic.41.jpg', 'Non_Autistic.504.jpg', 'Non_Autistic.618.jpg', 'Non_Autistic.613.jpg', 'Non_Autistic.393.jpg', 'Non_Autistic.307.jpg', 'Non_Autistic.405.jpg', 'Non_Autistic.620.jpg', 'Non_Autistic.529.jpg', 'Non_Autistic.576.jpg', 'Non_Autistic.548.jpg', 'Non_Autistic.569.jpg', 'Non_Autistic.379.jpg', 'Non_Autistic.404.jpg', 'Non_Autistic.417.jpg', 'Non_Autistic.463.jpg', 'Non_Autistic.423.jpg', 'Non_Autistic.523.jpg', 'Non_Autistic.38.jpg', 'Non_Autistic.515.jpg', 'Non_Autistic.506.jpg', 'Non_Autistic.567.jpg', 'Non_Autistic.323.jpg', 'Non_Autistic.632.jpg', 'Non_Autistic.472.jpg', 'Non_Autistic.305.jpg', 'Non_Autistic.509.jpg', 'Non_Autistic.374.jpg', 'Non_Autistic.42.jpg', 'Non_Autistic.583.jpg', 'Non_Autistic.439.jpg', 'Non_Autistic.524.jpg', 'Non_Autistic.434.jpg', 'Non_Autistic.329.jpg', 'Non_Autistic.421.jpg', 'Non_Autistic.517.jpg', 'Non_Autistic.552.jpg', 'Non_Autistic.499.jpg', 'Non_Autistic.628.jpg', 'Non_Autistic.534.jpg', 'Non_Autistic.50.jpg', 'Non_Autistic.443.jpg', 'Non_Autistic.311.jpg', 'Non_Autistic.639.jpg', 'Non_Autistic.603.jpg', 'Non_Autistic.386.jpg', 'Non_Autistic.364.jpg', 'Non_Autistic.444.jpg', 'Non_Autistic.403.jpg', 'Non_Autistic.446.jpg', 'Non_Autistic.568.jpg', 'Non_Autistic.335.jpg', 'Non_Autistic.419.jpg', 'Non_Autistic.458.jpg', 'Non_Autistic.6.jpg', 'Non_Autistic.507.jpg', 'Non_Autistic.414.jpg', 'Non_Autistic.52.jpg', 'Non_Autistic.630.jpg', 'Non_Autistic.467.jpg', 'Non_Autistic.51.jpg', 'Non_Autistic.331.jpg', 'Non_Autistic.389.jpg', 'Non_Autistic.512.jpg', 'Non_Autistic.431.jpg', 'Non_Autistic.475.jpg', 'Non_Autistic.535.jpg', 'Non_Autistic.624.jpg', 'Non_Autistic.436.jpg', 'Non_Autistic.461.jpg', 'Non_Autistic.411.jpg', 'Non_Autistic.471.jpg', 'Non_Autistic.388.jpg', 'Non_Autistic.56.jpg', 'Non_Autistic.547.jpg', 'Non_Autistic.563.jpg', 'Non_Autistic.498.jpg', 'Non_Autistic.387.jpg', 'Non_Autistic.555.jpg', 'Non_Autistic.656.jpg', 'Non_Autistic.425.jpg', 'Non_Autistic.351.jpg', 'Non_Autistic.438.jpg', 'Non_Autistic.637.jpg', 'Non_Autistic.594.jpg', 'Non_Autistic.565.jpg', 'Non_Autistic.309.jpg', 'Non_Autistic.401.jpg', 'Non_Autistic.621.jpg', 'Non_Autistic.426.jpg', 'Non_Autistic.392.jpg', 'Non_Autistic.587.jpg', 'Non_Autistic.643.jpg', 'Non_Autistic.585.jpg', 'Non_Autistic.550.jpg', 'Non_Autistic.66.jpg', 'Non_Autistic.390.jpg', 'Non_Autistic.570.jpg', 'Non_Autistic.32.jpg', 'Non_Autistic.592.jpg', 'Non_Autistic.619.jpg', 'Non_Autistic.400.jpg', 'Non_Autistic.380.jpg', 'Non_Autistic.336.jpg', 'Non_Autistic.357.jpg', 'Non_Autistic.339.jpg', 'Non_Autistic.536.jpg', 'Non_Autistic.65.jpg', 'Non_Autistic.487.jpg', 'Non_Autistic.608.jpg', 'Non_Autistic.574.jpg', 'Non_Autistic.406.jpg', 'Non_Autistic.636.jpg', 'Non_Autistic.332.jpg', 'Non_Autistic.312.jpg', 'Non_Autistic.642.jpg', 'Non_Autistic.650.jpg', 'Non_Autistic.625.jpg', 'Non_Autistic.407.jpg', 'Non_Autistic.418.jpg', 'Non_Autistic.481.jpg', 'Non_Autistic.319.jpg', 'Non_Autistic.590.jpg', 'Non_Autistic.346.jpg', 'Non_Autistic.652.jpg', 'Non_Autistic.510.jpg', 'Non_Autistic.581.jpg', 'Non_Autistic.60.jpg', 'Non_Autistic.486.jpg', 'Non_Autistic.369.jpg', 'Non_Autistic.579.jpg', 'Non_Autistic.412.jpg', 'Non_Autistic.482.jpg', 'Non_Autistic.542.jpg', 'Non_Autistic.602.jpg', 'Non_Autistic.558.jpg', 'Non_Autistic.367.jpg', 'Non_Autistic.368.jpg', 'Non_Autistic.347.jpg', 'Non_Autistic.450.jpg', 'Non_Autistic.629.jpg', 'Non_Autistic.485.jpg', 'Non_Autistic.362.jpg', 'Non_Autistic.638.jpg', 'Non_Autistic.353.jpg', 'Non_Autistic.561.jpg', 'Non_Autistic.597.jpg', 'Non_Autistic.492.jpg', 'Non_Autistic.659.jpg', 'Non_Autistic.398.jpg', 'Non_Autistic.605.jpg', 'Non_Autistic.895.jpg', 'Non_Autistic.924.jpg', 'Non_Autistic.813.jpg', 'Non_Autistic.974.jpg', 'Non_Autistic.85.jpg', 'Non_Autistic.952.jpg', 'Non_Autistic.7.jpg', 'Non_Autistic.888.jpg', 'Non_Autistic.935.jpg', 'Non_Autistic.667.jpg', 'Non_Autistic.77.jpg', 'Non_Autistic.95.jpg', 'Non_Autistic.946.jpg', 'Non_Autistic.736.jpg', 'Non_Autistic.832.jpg', 'Non_Autistic.698.jpg', 'Non_Autistic.762.jpg', 'Non_Autistic.756.jpg', 'Non_Autistic.875.jpg', 'Non_Autistic.966.jpg', 'Non_Autistic.894.jpg', 'Non_Autistic.870.jpg', 'Non_Autistic.944.jpg', 'Non_Autistic.709.jpg', 'Non_Autistic.784.jpg', 'Non_Autistic.925.jpg', 'Non_Autistic.901.jpg', 'Non_Autistic.977.jpg', 'Non_Autistic.825.jpg', 'Non_Autistic.849.jpg', 'Non_Autistic.887.jpg', 'Non_Autistic.723.jpg', 'Non_Autistic.673.jpg', 'Non_Autistic.893.jpg', 'Non_Autistic.864.jpg', 'Non_Autistic.882.jpg', 'Non_Autistic.689.jpg', 'Non_Autistic.812.jpg', 'Non_Autistic.868.jpg', 'Non_Autistic.761.jpg', 'Non_Autistic.746.jpg', 'Non_Autistic.704.jpg', 'Non_Autistic.842.jpg', 'Non_Autistic.986.jpg', 'Non_Autistic.802.jpg', 'Non_Autistic.884.jpg', 'Non_Autistic.970.jpg', 'Non_Autistic.815.jpg', 'Non_Autistic.84.jpg', 'Non_Autistic.920.jpg', 'Non_Autistic.87.jpg', 'Non_Autistic.936.jpg', 'Non_Autistic.730.jpg', 'Non_Autistic.822.jpg', 'Non_Autistic.876.jpg', 'Non_Autistic.947.jpg', 'Non_Autistic.79.jpg', 'Non_Autistic.978.jpg', 'Non_Autistic.770.jpg', 'Non_Autistic.722.jpg', 'Non_Autistic.685.jpg', 'Non_Autistic.670.jpg', 'Non_Autistic.971.jpg', 'Non_Autistic.787.jpg', 'Non_Autistic.869.jpg', 'Non_Autistic.716.jpg', 'Non_Autistic.852.jpg', 'Non_Autistic.792.jpg', 'Non_Autistic.669.jpg', 'Non_Autistic.995.jpg', 'Non_Autistic.847.jpg', 'Non_Autistic.919.jpg', 'Non_Autistic.829.jpg', 'Non_Autistic.918.jpg', 'Non_Autistic.721.jpg', 'Non_Autistic.766.jpg', 'Non_Autistic.951.jpg', 'Non_Autistic.874.jpg', 'Non_Autistic.917.jpg', 'Non_Autistic.701.jpg', 'Non_Autistic.942.jpg', 'Non_Autistic.929.jpg', 'Non_Autistic.772.jpg', 'Non_Autistic.880.jpg', 'Non_Autistic.839.jpg', 'Non_Autistic.877.jpg', 'Non_Autistic.836.jpg', 'Non_Autistic.939.jpg', 'Non_Autistic.720.jpg', 'Non_Autistic.754.jpg', 'Non_Autistic.862.jpg', 'Non_Autistic.818.jpg', 'Non_Autistic.778.jpg', 'Non_Autistic.804.jpg', 'Non_Autistic.983.jpg', 'Non_Autistic.838.jpg', 'Non_Autistic.783.jpg', 'Non_Autistic.765.jpg', 'Non_Autistic.835.jpg', 'Non_Autistic.782.jpg', 'Non_Autistic.955.jpg', 'Non_Autistic.904.jpg', 'Non_Autistic.927.jpg', 'Non_Autistic.82.jpg', 'Non_Autistic.965.jpg', 'Non_Autistic.810.jpg', 'Non_Autistic.854.jpg', 'Non_Autistic.891.jpg', 'Non_Autistic.828.jpg', 'Non_Autistic.961.jpg', 'Non_Autistic.668.jpg', 'Non_Autistic.866.jpg', 'Non_Autistic.703.jpg', 'Non_Autistic.687.jpg', 'Non_Autistic.745.jpg', 'Non_Autistic.75.jpg', 'Non_Autistic.69.jpg', 'Non_Autistic.678.jpg', 'Non_Autistic.949.jpg', 'Non_Autistic.934.jpg', 'Non_Autistic.696.jpg', 'Non_Autistic.805.jpg', 'Non_Autistic.791.jpg', 'Non_Autistic.863.jpg', 'Non_Autistic.897.jpg', 'Non_Autistic.878.jpg', 'Non_Autistic.727.jpg', 'Non_Autistic.690.jpg', 'Non_Autistic.911.jpg', 'Non_Autistic.908.jpg', 'Non_Autistic.753.jpg', 'Non_Autistic.824.jpg', 'Non_Autistic.841.jpg', 'Non_Autistic.800.jpg', 'Non_Autistic.941.jpg', 'Non_Autistic.692.jpg', 'Non_Autistic.728.jpg', 'Non_Autistic.797.jpg', 'Non_Autistic.758.jpg', 'Non_Autistic.821.jpg', 'Non_Autistic.820.jpg', 'Non_Autistic.830.jpg', 'Non_Autistic.885.jpg', 'Non_Autistic.984.jpg', 'Non_Autistic.671.jpg', 'Non_Autistic.817.jpg', 'Non_Autistic.940.jpg', 'Non_Autistic.99.jpg', 'Non_Autistic.976.jpg', 'Non_Autistic.777.jpg', 'Non_Autistic.969.jpg', 'Non_Autistic.74.jpg', 'Non_Autistic.873.jpg', 'Non_Autistic.883.jpg', 'Non_Autistic.767.jpg', 'Non_Autistic.799.jpg', 'Non_Autistic.89.jpg', 'Non_Autistic.988.jpg', 'Non_Autistic.910.jpg', 'Non_Autistic.967.jpg', 'Non_Autistic.697.jpg', 'Non_Autistic.905.jpg', 'Non_Autistic.683.jpg', 'Non_Autistic.987.jpg', 'Non_Autistic.83.jpg', 'Non_Autistic.737.jpg', 'Non_Autistic.853.jpg', 'Non_Autistic.991.jpg', 'Non_Autistic.945.jpg', 'Non_Autistic.699.jpg', 'Non_Autistic.76.jpg', 'Non_Autistic.677.jpg', 'Non_Autistic.733.jpg', 'Non_Autistic.86.jpg', 'Non_Autistic.90.jpg', 'Non_Autistic.679.jpg', 'Non_Autistic.903.jpg', 'Non_Autistic.968.jpg', 'Non_Autistic.902.jpg', 'Non_Autistic.67.jpg', 'Non_Autistic.726.jpg', 'Non_Autistic.856.jpg', 'Non_Autistic.890.jpg', 'Non_Autistic.994.jpg', 'Non_Autistic.71.jpg', 'Non_Autistic.749.jpg', 'Non_Autistic.879.jpg', 'Non_Autistic.931.jpg', 'Non_Autistic.91.jpg', 'Non_Autistic.953.jpg', 'Non_Autistic.70.jpg', 'Non_Autistic.809.jpg', 'Non_Autistic.962.jpg', 'Non_Autistic.959.jpg', 'Non_Autistic.859.jpg', 'Non_Autistic.846.jpg', 'Non_Autistic.922.jpg', 'Non_Autistic.789.jpg', 'Non_Autistic.980.jpg', 'Non_Autistic.725.jpg', 'Non_Autistic.776.jpg', 'Non_Autistic.989.jpg', 'Non_Autistic.707.jpg', 'Non_Autistic.795.jpg', 'Non_Autistic.851.jpg', 'Non_Autistic.975.jpg', 'Non_Autistic.819.jpg', 'Non_Autistic.786.jpg', 'Non_Autistic.711.jpg', 'Non_Autistic.972.jpg', 'Non_Autistic.760.jpg', 'Non_Autistic.68.jpg', 'Non_Autistic.757.jpg', 'Non_Autistic.982.jpg', 'Non_Autistic.857.jpg', 'Non_Autistic.759.jpg', 'Non_Autistic.943.jpg', 'Non_Autistic.801.jpg', 'Non_Autistic.693.jpg', 'Non_Autistic.775.jpg', 'Non_Autistic.695.jpg', 'Non_Autistic.748.jpg', 'Non_Autistic.88.jpg', 'Non_Autistic.790.jpg', 'Non_Autistic.845.jpg', 'Non_Autistic.672.jpg', 'Non_Autistic.713.jpg', 'Non_Autistic.729.jpg', 'Non_Autistic.715.jpg', 'Non_Autistic.764.jpg', 'Non_Autistic.858.jpg', 'Non_Autistic.81.jpg', 'Non_Autistic.823.jpg', 'Non_Autistic.926.jpg', 'Non_Autistic.811.jpg', 'Non_Autistic.738.jpg', 'Non_Autistic.779.jpg', 'Non_Autistic.710.jpg', 'Non_Autistic.808.jpg', 'Non_Autistic.684.jpg', 'Non_Autistic.796.jpg', 'Non_Autistic.743.jpg', 'Non_Autistic.844.jpg', 'Non_Autistic.916.jpg', 'Non_Autistic.816.jpg', 'Non_Autistic.833.jpg', 'Non_Autistic.747.jpg', 'Non_Autistic.950.jpg', 'Non_Autistic.676.jpg', 'Non_Autistic.834.jpg', 'Non_Autistic.938.jpg', 'Non_Autistic.798.jpg', 'Non_Autistic.814.jpg', 'Non_Autistic.774.jpg', 'Non_Autistic.806.jpg', 'Non_Autistic.998.jpg', 'Non_Autistic.755.jpg', 'Non_Autistic.921.jpg', 'Non_Autistic.913.jpg', 'Non_Autistic.740.jpg', 'Non_Autistic.788.jpg', 'Non_Autistic.889.jpg', 'Non_Autistic.843.jpg', 'Non_Autistic.688.jpg', 'Non_Autistic.714.jpg', 'Non_Autistic.769.jpg', 'Non_Autistic.700.jpg', 'Non_Autistic.9.jpg', 'Non_Autistic.871.jpg', 'Non_Autistic.734.jpg', 'Non_Autistic.861.jpg', 'Non_Autistic.675.jpg', 'Non_Autistic.872.jpg', 'Non_Autistic.803.jpg', 'Non_Autistic.906.jpg', 'Non_Autistic.840.jpg', 'Non_Autistic.881.jpg', 'Non_Autistic.706.jpg', 'Non_Autistic.886.jpg', 'Non_Autistic.865.jpg', 'Non_Autistic.948.jpg', 'Non_Autistic.855.jpg', 'Non_Autistic.719.jpg', 'Non_Autistic.768.jpg', 'Non_Autistic.739.jpg', 'Non_Autistic.666.jpg', 'Non_Autistic.773.jpg', 'Non_Autistic.831.jpg', 'Non_Autistic.763.jpg', 'Non_Autistic.900.jpg', 'Non_Autistic.985.jpg', 'Non_Autistic.742.jpg', 'Non_Autistic.963.jpg', 'Non_Autistic.997.jpg', 'Non_Autistic.780.jpg', 'Non_Autistic.899.jpg', 'Non_Autistic.98.jpg', 'Non_Autistic.702.jpg', 'Non_Autistic.867.jpg', 'Non_Autistic.664.jpg', 'Non_Autistic.718.jpg', 'Non_Autistic.892.jpg', 'Non_Autistic.705.jpg', 'Non_Autistic.665.jpg', 'Non_Autistic.735.jpg', 'Non_Autistic.96.jpg', 'Non_Autistic.999.jpg', 'Non_Autistic.750.jpg', 'Non_Autistic.752.jpg', 'Non_Autistic.807.jpg', 'Non_Autistic.932.jpg', 'Non_Autistic.981.jpg', 'Non_Autistic.72.jpg', 'Non_Autistic.94.jpg', 'Non_Autistic.93.jpg', 'Non_Autistic.996.jpg', 'Non_Autistic.973.jpg', 'Non_Autistic.724.jpg', 'Non_Autistic.674.jpg', 'Non_Autistic.771.jpg', 'Non_Autistic.850.jpg', 'Non_Autistic.912.jpg', 'Non_Autistic.681.jpg', 'Non_Autistic.80.jpg', 'Non_Autistic.956.jpg', 'Non_Autistic.73.jpg', 'Non_Autistic.979.jpg', 'Non_Autistic.785.jpg', 'Non_Autistic.8.jpg', 'Non_Autistic.837.jpg', 'Non_Autistic.680.jpg', 'Non_Autistic.78.jpg', 'Non_Autistic.686.jpg', 'Non_Autistic.993.jpg', 'Non_Autistic.930.jpg', 'Non_Autistic.744.jpg', 'Non_Autistic.964.jpg', 'Non_Autistic.937.jpg', 'Non_Autistic.990.jpg', 'Non_Autistic.907.jpg', 'Non_Autistic.717.jpg', 'Non_Autistic.957.jpg', 'Non_Autistic.923.jpg', 'Non_Autistic.960.jpg', 'Non_Autistic.708.jpg', 'Non_Autistic.848.jpg', 'Non_Autistic.691.jpg', 'Non_Autistic.793.jpg', 'Non_Autistic.794.jpg', 'Non_Autistic.712.jpg', 'Non_Autistic.928.jpg', 'Non_Autistic.92.jpg', 'Non_Autistic.958.jpg', 'Non_Autistic.896.jpg', 'Non_Autistic.732.jpg', 'Non_Autistic.694.jpg', 'Non_Autistic.741.jpg', 'Non_Autistic.898.jpg', 'Non_Autistic.915.jpg', 'Non_Autistic.663.jpg', 'Non_Autistic.827.jpg', 'Non_Autistic.860.jpg', 'Non_Autistic.731.jpg', 'Non_Autistic.826.jpg', 'Non_Autistic.909.jpg', 'Non_Autistic.992.jpg', 'Non_Autistic.682.jpg', 'Non_Autistic.751.jpg', 'Non_Autistic.97.jpg', 'Non_Autistic.933.jpg', 'Non_Autistic.781.jpg', 'Non_Autistic.954.jpg', 'Non_Autistic.914.jpg', 'Autistic.330.jpg', 'Autistic.208.jpg', 'Autistic.24.jpg', 'Autistic.191.jpg', 'Autistic.35.jpg', 'Autistic.204.jpg', 'Autistic.480.jpg', 'Autistic.307.jpg', 'Autistic.520.jpg', 'Autistic.28.jpg', 'Autistic.253.jpg', 'Autistic.364.jpg', 'Autistic.235.jpg', 'Autistic.391.jpg', 'Autistic.462.jpg', 'Autistic.467.jpg', 'Autistic.232.jpg', 'Autistic.216.jpg', 'Autistic.328.jpg', 'Autistic.372.jpg', 'Autistic.415.jpg', 'Autistic.288.jpg', 'Autistic.413.jpg', 'Autistic.217.jpg', 'Autistic.382.jpg', 'Autistic.347.jpg', 'Autistic.454.jpg', 'Autistic.402.jpg', 'Autistic.345.jpg', 'Autistic.297.jpg', 'Autistic.466.jpg', 'Autistic.255.jpg', 'Autistic.531.jpg', 'Autistic.430.jpg', 'Autistic.38.jpg', 'Autistic.432.jpg', 'Autistic.497.jpg', 'Autistic.389.jpg', 'Autistic.343.jpg', 'Autistic.277.jpg', 'Autistic.48.jpg', 'Autistic.278.jpg', 'Autistic.40.jpg', 'Autistic.426.jpg', 'Autistic.247.jpg', 'Autistic.356.jpg', 'Autistic.258.jpg', 'Autistic.406.jpg', 'Autistic.30.jpg', 'Autistic.323.jpg', 'Autistic.260.jpg', 'Autistic.408.jpg', 'Autistic.445.jpg', 'Autistic.248.jpg', 'Autistic.231.jpg', 'Autistic.412.jpg', 'Autistic.490.jpg', 'Autistic.399.jpg', 'Autistic.393.jpg', 'Autistic.305.jpg', 'Autistic.525.jpg', 'Autistic.405.jpg', 'Autistic.195.jpg', 'Autistic.202.jpg', 'Autistic.303.jpg', 'Autistic.476.jpg', 'Autistic.249.jpg', 'Autistic.351.jpg', 'Autistic.429.jpg', 'Autistic.506.jpg', 'Autistic.233.jpg', 'Autistic.352.jpg', 'Autistic.420.jpg', 'Autistic.262.jpg', 'Autistic.346.jpg', 'Autistic.268.jpg', 'Autistic.443.jpg', 'Autistic.212.jpg', 'Autistic.221.jpg', 'Autistic.488.jpg', 'Autistic.510.jpg', 'Autistic.294.jpg', 'Autistic.478.jpg', 'Autistic.317.jpg', 'Autistic.419.jpg', 'Autistic.453.jpg', 'Autistic.523.jpg', 'Autistic.427.jpg', 'Autistic.534.jpg', 'Autistic.486.jpg', 'Autistic.507.jpg', 'Autistic.357.jpg', 'Autistic.224.jpg', 'Autistic.503.jpg', 'Autistic.421.jpg', 'Autistic.469.jpg', 'Autistic.387.jpg', 'Autistic.324.jpg', 'Autistic.459.jpg', 'Autistic.284.jpg', 'Autistic.311.jpg', 'Autistic.337.jpg', 'Autistic.496.jpg', 'Autistic.296.jpg', 'Autistic.392.jpg', 'Autistic.471.jpg', 'Autistic.291.jpg', 'Autistic.263.jpg', 'Autistic.236.jpg', 'Autistic.350.jpg', 'Autistic.265.jpg', 'Autistic.390.jpg', 'Autistic.479.jpg', 'Autistic.312.jpg', 'Autistic.229.jpg', 'Autistic.321.jpg', 'Autistic.388.jpg', 'Autistic.521.jpg', 'Autistic.259.jpg', 'Autistic.474.jpg', 'Autistic.287.jpg', 'Autistic.377.jpg', 'Autistic.306.jpg', 'Autistic.515.jpg', 'Autistic.46.jpg', 'Autistic.282.jpg', 'Autistic.37.jpg', 'Autistic.246.jpg', 'Autistic.367.jpg', 'Autistic.316.jpg', 'Autistic.363.jpg', 'Autistic.274.jpg', 'Autistic.334.jpg', 'Autistic.434.jpg', 'Autistic.463.jpg', 'Autistic.314.jpg', 'Autistic.270.jpg', 'Autistic.286.jpg', 'Autistic.422.jpg', 'Autistic.500.jpg', 'Autistic.494.jpg', 'Autistic.369.jpg', 'Autistic.492.jpg', 'Autistic.378.jpg', 'Autistic.226.jpg', 'Autistic.403.jpg', 'Autistic.237.jpg', 'Autistic.409.jpg', 'Autistic.439.jpg', 'Autistic.338.jpg', 'Autistic.41.jpg', 'Autistic.23.jpg', 'Autistic.273.jpg', 'Autistic.475.jpg', 'Autistic.199.jpg', 'Autistic.292.jpg', 'Autistic.206.jpg', 'Autistic.450.jpg', 'Autistic.433.jpg', 'Autistic.505.jpg', 'Autistic.325.jpg', 'Autistic.335.jpg', 'Autistic.465.jpg', 'Autistic.446.jpg', 'Autistic.532.jpg', 'Autistic.242.jpg', 'Autistic.189.jpg', 'Autistic.371.jpg', 'Autistic.428.jpg', 'Autistic.502.jpg', 'Autistic.417.jpg', 'Autistic.228.jpg', 'Autistic.318.jpg', 'Autistic.203.jpg', 'Autistic.448.jpg', 'Autistic.374.jpg', 'Autistic.424.jpg', 'Autistic.52.jpg', 'Autistic.539.jpg', 'Autistic.279.jpg', 'Autistic.275.jpg', 'Autistic.458.jpg', 'Autistic.511.jpg', 'Autistic.365.jpg', 'Autistic.266.jpg', 'Autistic.26.jpg', 'Autistic.375.jpg', 'Autistic.251.jpg', 'Autistic.276.jpg', 'Autistic.449.jpg', 'Autistic.518.jpg', 'Autistic.285.jpg', 'Autistic.239.jpg', 'Autistic.238.jpg', 'Autistic.512.jpg', 'Autistic.441.jpg', 'Autistic.200.jpg', 'Autistic.366.jpg', 'Autistic.482.jpg', 'Autistic.537.jpg', 'Autistic.300.jpg', 'Autistic.33.jpg', 'Autistic.188.jpg', 'Autistic.447.jpg', 'Autistic.341.jpg', 'Autistic.333.jpg', 'Autistic.269.jpg', 'Autistic.49.jpg', 'Autistic.301.jpg', 'Autistic.517.jpg', 'Autistic.344.jpg', 'Autistic.281.jpg', 'Autistic.362.jpg', 'Autistic.196.jpg', 'Autistic.257.jpg', 'Autistic.438.jpg', 'Autistic.280.jpg', 'Autistic.194.jpg', 'Autistic.380.jpg', 'Autistic.252.jpg', 'Autistic.556.jpg', 'Autistic.575.jpg', 'Autistic.885.jpg', 'Autistic.888.jpg', 'Autistic.82.jpg', 'Autistic.640.jpg', 'Autistic.690.jpg', 'Autistic.628.jpg', 'Autistic.81.jpg', 'Autistic.643.jpg', 'Autistic.767.jpg', 'Autistic.742.jpg', 'Autistic.555.jpg', 'Autistic.879.jpg', 'Autistic.574.jpg', 'Autistic.871.jpg', 'Autistic.630.jpg', 'Autistic.876.jpg', 'Autistic.682.jpg', 'Autistic.541.jpg', 'Autistic.633.jpg', 'Autistic.547.jpg', 'Autistic.72.jpg', 'Autistic.599.jpg', 'Autistic.702.jpg', 'Autistic.662.jpg', 'Autistic.600.jpg', 'Autistic.612.jpg', 'Autistic.872.jpg', 'Autistic.856.jpg', 'Autistic.733.jpg', 'Autistic.557.jpg', 'Autistic.831.jpg', 'Autistic.693.jpg', 'Autistic.76.jpg', 'Autistic.761.jpg', 'Autistic.678.jpg', 'Autistic.675.jpg', 'Autistic.838.jpg', 'Autistic.61.jpg', 'Autistic.730.jpg', 'Autistic.66.jpg', 'Autistic.671.jpg', 'Autistic.658.jpg', 'Autistic.752.jpg', 'Autistic.669.jpg', 'Autistic.736.jpg', 'Autistic.843.jpg', 'Autistic.721.jpg', 'Autistic.832.jpg', 'Autistic.622.jpg', 'Autistic.762.jpg', 'Autistic.825.jpg', 'Autistic.596.jpg', 'Autistic.652.jpg', 'Autistic.558.jpg', 'Autistic.768.jpg', 'Autistic.587.jpg', 'Autistic.567.jpg', 'Autistic.822.jpg', 'Autistic.792.jpg', 'Autistic.862.jpg', 'Autistic.714.jpg', 'Autistic.621.jpg', 'Autistic.815.jpg', 'Autistic.665.jpg', 'Autistic.80.jpg', 'Autistic.725.jpg', 'Autistic.809.jpg', 'Autistic.810.jpg', 'Autistic.637.jpg', 'Autistic.806.jpg', 'Autistic.564.jpg', 'Autistic.605.jpg', 'Autistic.698.jpg', 'Autistic.802.jpg', 'Autistic.644.jpg', 'Autistic.550.jpg', 'Autistic.8.jpg', 'Autistic.889.jpg', 'Autistic.750.jpg', 'Autistic.869.jpg', 'Autistic.664.jpg', 'Autistic.741.jpg', 'Autistic.743.jpg', 'Autistic.579.jpg', 'Autistic.642.jpg', 'Autistic.670.jpg', 'Autistic.610.jpg', 'Autistic.545.jpg', 'Autistic.777.jpg', 'Autistic.751.jpg', 'Autistic.62.jpg', 'Autistic.821.jpg', 'Autistic.655.jpg', 'Autistic.816.jpg', 'Autistic.788.jpg', 'Autistic.593.jpg', 'Autistic.685.jpg', 'Autistic.75.jpg', 'Autistic.696.jpg', 'Autistic.841.jpg', 'Autistic.546.jpg', 'Autistic.708.jpg', 'Autistic.865.jpg', 'Autistic.844.jpg', 'Autistic.774.jpg', 'Autistic.571.jpg', 'Autistic.60.jpg', 'Autistic.617.jpg', 'Autistic.804.jpg', 'Autistic.829.jpg', 'Autistic.749.jpg', 'Autistic.883.jpg', 'Autistic.805.jpg', 'Autistic.712.jpg', 'Autistic.651.jpg', 'Autistic.711.jpg', 'Autistic.729.jpg', 'Autistic.681.jpg', 'Autistic.700.jpg', 'Autistic.663.jpg', 'Autistic.624.jpg', 'Autistic.626.jpg', 'Autistic.568.jpg', 'Autistic.590.jpg', 'Autistic.745.jpg', 'Autistic.699.jpg', 'Autistic.86.jpg', 'Autistic.868.jpg', 'Autistic.757.jpg', 'Autistic.598.jpg', 'Autistic.77.jpg', 'Autistic.851.jpg', 'Autistic.688.jpg', 'Autistic.623.jpg', 'Autistic.779.jpg', 'Autistic.740.jpg', 'Autistic.739.jpg', 'Autistic.588.jpg', 'Autistic.826.jpg', 'Autistic.731.jpg', 'Autistic.766.jpg', 'Autistic.689.jpg', 'Autistic.703.jpg', 'Autistic.650.jpg', 'Autistic.694.jpg', 'Autistic.724.jpg', 'Autistic.606.jpg', 'Autistic.581.jpg', 'Autistic.627.jpg', 'Autistic.615.jpg', 'Autistic.619.jpg', 'Autistic.877.jpg', 'Autistic.65.jpg', 'Autistic.793.jpg', 'Autistic.552.jpg', 'Autistic.618.jpg', 'Autistic.561.jpg', 'Autistic.853.jpg', 'Autistic.55.jpg', 'Autistic.867.jpg', 'Autistic.672.jpg', 'Autistic.589.jpg', 'Autistic.583.jpg', 'Autistic.801.jpg', 'Autistic.549.jpg', 'Autistic.817.jpg', 'Autistic.719.jpg', 'Autistic.634.jpg', 'Autistic.800.jpg', 'Autistic.554.jpg', 'Autistic.870.jpg', 'Autistic.83.jpg', 'Autistic.716.jpg', 'Autistic.667.jpg', 'Autistic.833.jpg', 'Autistic.578.jpg', 'Autistic.786.jpg', 'Autistic.707.jpg', 'Autistic.659.jpg', 'Autistic.580.jpg', 'Autistic.744.jpg', 'Autistic.572.jpg', 'Autistic.781.jpg', 'Autistic.585.jpg', 'Autistic.68.jpg', 'Autistic.878.jpg', 'Autistic.646.jpg', 'Autistic.79.jpg', 'Autistic.737.jpg', 'Autistic.705.jpg', 'Autistic.57.jpg', 'Autistic.542.jpg', 'Autistic.813.jpg', 'Autistic.601.jpg', 'Autistic.603.jpg', 'Autistic.666.jpg', 'Autistic.812.jpg', 'Autistic.74.jpg', 'Autistic.625.jpg', 'Autistic.63.jpg', 'Autistic.573.jpg', 'Autistic.734.jpg', 'Autistic.657.jpg', 'Autistic.613.jpg', 'Autistic.861.jpg', 'Autistic.631.jpg', 'Autistic.837.jpg', 'Autistic.728.jpg', 'Autistic.845.jpg', 'Autistic.864.jpg', 'Autistic.553.jpg', 'Autistic.647.jpg', 'Autistic.842.jpg', 'Autistic.645.jpg', 'Autistic.787.jpg', 'Autistic.852.jpg', 'Autistic.577.jpg', 'Autistic.570.jpg', 'Autistic.673.jpg', 'Autistic.773.jpg', 'Autistic.591.jpg', 'Autistic.639.jpg', 'Autistic.848.jpg', 'Autistic.569.jpg', 'Autistic.755.jpg', 'Autistic.880.jpg', 'Autistic.811.jpg', 'Autistic.611.jpg', 'Autistic.776.jpg', 'Autistic.882.jpg', 'Autistic.560.jpg', 'Autistic.641.jpg', 'Autistic.735.jpg', 'Autistic.782.jpg', 'Autistic.604.jpg', 'Autistic.697.jpg', 'Autistic.71.jpg', 'Autistic.814.jpg', 'Autistic.789.jpg', 'Autistic.819.jpg', 'Autistic.687.jpg', 'Autistic.89.jpg', 'Autistic.88.jpg', 'Autistic.746.jpg', 'Autistic.784.jpg', 'Autistic.722.jpg', 'Autistic.704.jpg', 'Autistic.760.jpg', 'Autistic.771.jpg', 'Autistic.820.jpg', 'Autistic.794.jpg', 'Autistic.857.jpg', 'Autistic.834.jpg', 'Autistic.683.jpg', 'Autistic.73.jpg', 'Autistic.778.jpg', 'Autistic.738.jpg', 'Autistic.684.jpg', 'Autistic.59.jpg', 'Autistic.661.jpg', 'Autistic.701.jpg', 'Autistic.565.jpg', 'Autistic.632.jpg', 'Autistic.726.jpg', 'Autistic.544.jpg', 'Autistic.710.jpg', 'Autistic.859.jpg', 'Autistic.592.jpg', 'Autistic.67.jpg', 'Autistic.754.jpg', 'Autistic.791.jpg', 'Autistic.874.jpg', 'Autistic.586.jpg', 'Autistic.595.jpg', 'Autistic.803.jpg', 'Autistic.847.jpg', 'Autistic.790.jpg', 'Autistic.855.jpg', 'Autistic.720.jpg', 'Autistic.677.jpg', 'Autistic.797.jpg', 'Autistic.863.jpg', 'Autistic.602.jpg', 'Autistic.775.jpg', 'Autistic.875.jpg', 'Autistic.713.jpg', 'Autistic.846.jpg', 'Autistic.680.jpg', 'Autistic.860.jpg', 'Autistic.866.jpg', 'Autistic.839.jpg', 'Autistic.84.jpg', 'Autistic.873.jpg', 'Autistic.715.jpg', 'Autistic.584.jpg', 'Autistic.616.jpg', 'Autistic.609.jpg', 'Autistic.836.jpg', 'Autistic.607.jpg', 'Autistic.69.jpg', 'Autistic.692.jpg', 'Autistic.723.jpg', 'Autistic.717.jpg', 'Autistic.582.jpg', 'Autistic.840.jpg', 'Autistic.884.jpg', 'Autistic.718.jpg', 'Autistic.653.jpg', 'Autistic.849.jpg', 'Autistic.648.jpg', 'Autistic.6.jpg', 'Autistic.668.jpg', 'Autistic.676.jpg', 'Autistic.691.jpg', 'Autistic.887.jpg', 'Autistic.858.jpg', 'Autistic.56.jpg', 'Autistic.835.jpg', 'Autistic.818.jpg', 'Autistic.7.jpg', 'Autistic.635.jpg', 'Autistic.765.jpg', 'Autistic.756.jpg', 'Autistic.732.jpg', 'Autistic.70.jpg', 'Autistic.597.jpg', 'Autistic.830.jpg', 'Autistic.78.jpg', 'Autistic.795.jpg', 'Autistic.854.jpg', 'Autistic.562.jpg', 'Autistic.799.jpg', 'Autistic.608.jpg', 'Autistic.620.jpg', 'Autistic.769.jpg', 'Autistic.54.jpg', 'Autistic.706.jpg', 'Autistic.886.jpg', 'Autistic.747.jpg', 'Autistic.87.jpg', 'Autistic.540.jpg', 'Autistic.85.jpg', 'Autistic.770.jpg', 'Autistic.748.jpg', 'Autistic.576.jpg', 'Autistic.674.jpg', 'Autistic.807.jpg', 'Autistic.695.jpg', 'Autistic.614.jpg', 'Autistic.548.jpg', 'Autistic.686.jpg', 'Autistic.709.jpg', 'Autistic.796.jpg', 'Autistic.563.jpg', 'Autistic.798.jpg', 'Autistic.828.jpg', 'Autistic.808.jpg', 'Autistic.654.jpg', 'Autistic.660.jpg', 'Autistic.763.jpg', 'Autistic.764.jpg', 'Autistic.727.jpg', 'Autistic.679.jpg', 'Autistic.551.jpg', 'Autistic.785.jpg', 'Autistic.559.jpg', 'Autistic.543.jpg', 'Autistic.758.jpg', 'Autistic.827.jpg', 'Autistic.823.jpg', 'Autistic.824.jpg', 'Autistic.649.jpg', 'Autistic.753.jpg', 'Autistic.566.jpg', 'Autistic.638.jpg', 'Autistic.636.jpg', 'Autistic.656.jpg', 'Autistic.629.jpg', 'Autistic.772.jpg', 'Autistic.881.jpg', 'Autistic.780.jpg', 'Autistic.783.jpg', 'Autistic.759.jpg', 'Autistic.594.jpg', 'Autistic.850.jpg', 'Autistic.58.jpg', 'Autistic.64.jpg', 'Non_Autistic.1143.jpg', 'Non_Autistic.110.jpg', 'Non_Autistic.1115.jpg', 'Non_Autistic.1148.jpg', 'Non_Autistic.1269.jpg', 'Non_Autistic.158.jpg', 'Non_Autistic.1218.jpg', 'Non_Autistic.205.jpg', 'Autistic.962.jpg', 'Non_Autistic.156.jpg', 'Non_Autistic.124.jpg', 'Autistic.979.jpg', 'Autistic.895.jpg', 'Non_Autistic.1095.jpg', 'Non_Autistic.167.jpg', 'Non_Autistic.1186.jpg', 'Non_Autistic.1152.jpg', 'Autistic.906.jpg', 'Non_Autistic.160.jpg', 'Autistic.988.jpg', 'Autistic.965.jpg', 'Autistic.900.jpg', 'Autistic.95.jpg', 'Non_Autistic.276.jpg', 'Non_Autistic.1140.jpg', 'Non_Autistic.161.jpg', 'Autistic.933.jpg', 'Non_Autistic.116.jpg', 'Non_Autistic.219.jpg', 'Non_Autistic.235.jpg', 'Non_Autistic.1228.jpg', 'Non_Autistic.1059.jpg', 'Non_Autistic.256.jpg', 'Non_Autistic.277.jpg', 'Non_Autistic.139.jpg', 'Non_Autistic.211.jpg', 'Autistic.967.jpg', 'Non_Autistic.239.jpg', 'Non_Autistic.119.jpg', 'Non_Autistic.163.jpg', 'Non_Autistic.1120.jpg', 'Non_Autistic.190.jpg', 'Non_Autistic.1104.jpg', 'Non_Autistic.112.jpg', 'Autistic.927.jpg', 'Non_Autistic.149.jpg', 'Non_Autistic.1033.jpg', 'Non_Autistic.270.jpg', 'Non_Autistic.1045.jpg', 'Non_Autistic.263.jpg', 'Non_Autistic.1077.jpg', 'Non_Autistic.177.jpg', 'Non_Autistic.1154.jpg', 'Non_Autistic.1048.jpg', 'Non_Autistic.1026.jpg', 'Non_Autistic.1000.jpg', 'Autistic.955.jpg', 'Non_Autistic.173.jpg', 'Non_Autistic.172.jpg', 'Non_Autistic.1055.jpg', 'Non_Autistic.279.jpg', 'Non_Autistic.1012.jpg', 'Non_Autistic.213.jpg', 'Non_Autistic.1006.jpg', 'Non_Autistic.207.jpg', 'Autistic.912.jpg', 'Non_Autistic.1037.jpg', 'Non_Autistic.1237.jpg', 'Non_Autistic.199.jpg', 'Non_Autistic.1255.jpg', 'Non_Autistic.1180.jpg', 'Non_Autistic.248.jpg', 'Non_Autistic.254.jpg', 'Non_Autistic.233.jpg', 'Non_Autistic.134.jpg', 'Non_Autistic.1069.jpg', 'Non_Autistic.152.jpg', 'Non_Autistic.1002.jpg', 'Autistic.928.jpg', 'Non_Autistic.1251.jpg', 'Autistic.96.jpg', 'Non_Autistic.1248.jpg', 'Non_Autistic.197.jpg', 'Non_Autistic.169.jpg', 'Non_Autistic.247.jpg', 'Non_Autistic.1112.jpg', 'Non_Autistic.1024.jpg', 'Autistic.958.jpg', 'Non_Autistic.1211.jpg', 'Autistic.98.jpg', 'Non_Autistic.17.jpg', 'Non_Autistic.1064.jpg', 'Non_Autistic.275.jpg', 'Non_Autistic.1249.jpg', 'Non_Autistic.293.jpg', 'Non_Autistic.1133.jpg', 'Non_Autistic.1070.jpg', 'Non_Autistic.1089.jpg', 'Autistic.896.jpg', 'Non_Autistic.175.jpg', 'Non_Autistic.242.jpg', 'Autistic.942.jpg', 'Autistic.966.jpg', 'Non_Autistic.294.jpg', 'Non_Autistic.200.jpg', 'Non_Autistic.260.jpg', 'Non_Autistic.1217.jpg', 'Non_Autistic.288.jpg', 'Non_Autistic.1210.jpg', 'Autistic.964.jpg', 'Non_Autistic.15.jpg', 'Non_Autistic.103.jpg', 'Non_Autistic.27.jpg', 'Autistic.925.jpg', 'Non_Autistic.284.jpg', 'Non_Autistic.214.jpg', 'Non_Autistic.101.jpg', 'Non_Autistic.1122.jpg', 'Non_Autistic.1052.jpg', 'Non_Autistic.278.jpg', 'Non_Autistic.1109.jpg', 'Non_Autistic.1107.jpg', 'Non_Autistic.1001.jpg', 'Non_Autistic.1178.jpg', 'Non_Autistic.289.jpg', 'Non_Autistic.1197.jpg', 'Non_Autistic.164.jpg', 'Non_Autistic.1177.jpg', 'Autistic.978.jpg', 'Autistic.956.jpg', 'Non_Autistic.1240.jpg', 'Autistic.996.jpg', 'Non_Autistic.1065.jpg', 'Non_Autistic.1016.jpg', 'Non_Autistic.1266.jpg', 'Autistic.983.jpg', 'Non_Autistic.257.jpg', 'Autistic.910.jpg', 'Non_Autistic.1145.jpg', 'Non_Autistic.1080.jpg', 'Non_Autistic.1101.jpg', 'Non_Autistic.274.jpg', 'Non_Autistic.1194.jpg', 'Autistic.984.jpg', 'Non_Autistic.1.jpg', 'Non_Autistic.287.jpg', 'Non_Autistic.1215.jpg', 'Non_Autistic.1208.jpg', 'Autistic.929.jpg', 'Non_Autistic.1182.jpg', 'Autistic.892.jpg', 'Autistic.915.jpg', 'Non_Autistic.123.jpg', 'Non_Autistic.1204.jpg', 'Autistic.998.jpg', 'Non_Autistic.1128.jpg', 'Autistic.974.jpg', 'Non_Autistic.133.jpg', 'Non_Autistic.117.jpg', 'Non_Autistic.18.jpg', 'Non_Autistic.1187.jpg', 'Non_Autistic.1161.jpg', 'Non_Autistic.252.jpg', 'Autistic.991.jpg', 'Non_Autistic.174.jpg', 'Non_Autistic.1185.jpg', 'Non_Autistic.267.jpg', 'Non_Autistic.1268.jpg', 'Non_Autistic.1074.jpg', 'Non_Autistic.1018.jpg', 'Non_Autistic.102.jpg', 'Autistic.899.jpg', 'Non_Autistic.1225.jpg', 'Non_Autistic.1035.jpg', 'Non_Autistic.1254.jpg', 'Non_Autistic.216.jpg', 'Non_Autistic.178.jpg', 'Non_Autistic.166.jpg', 'Non_Autistic.198.jpg', 'Autistic.931.jpg', 'Non_Autistic.245.jpg', 'Non_Autistic.1094.jpg', 'Non_Autistic.238.jpg', 'Non_Autistic.1092.jpg', 'Non_Autistic.268.jpg', 'Non_Autistic.1005.jpg', 'Non_Autistic.231.jpg', 'Non_Autistic.153.jpg', 'Non_Autistic.1110.jpg', 'Non_Autistic.1067.jpg', 'Non_Autistic.1050.jpg', 'Non_Autistic.1132.jpg', 'Non_Autistic.1044.jpg', 'Autistic.94.jpg', 'Autistic.905.jpg', 'Autistic.953.jpg', 'Non_Autistic.201.jpg', 'Non_Autistic.1030.jpg', 'Autistic.919.jpg', 'Non_Autistic.1207.jpg', 'Non_Autistic.129.jpg', 'Non_Autistic.131.jpg', 'Non_Autistic.232.jpg', 'Autistic.947.jpg', 'Autistic.972.jpg', 'Non_Autistic.1205.jpg', 'Non_Autistic.1038.jpg', 'Non_Autistic.215.jpg', 'Non_Autistic.1131.jpg', 'Non_Autistic.225.jpg', 'Non_Autistic.227.jpg', 'Autistic.918.jpg', 'Autistic.963.jpg', 'Autistic.981.jpg', 'Non_Autistic.23.jpg', 'Non_Autistic.1022.jpg', 'Non_Autistic.176.jpg', 'Non_Autistic.1096.jpg', 'Non_Autistic.1121.jpg', 'Non_Autistic.1233.jpg', 'Non_Autistic.192.jpg', 'Non_Autistic.12.jpg', 'Non_Autistic.1036.jpg', 'Non_Autistic.113.jpg', 'Non_Autistic.3.jpg', 'Non_Autistic.237.jpg', 'Autistic.902.jpg', 'Autistic.9.jpg', 'Non_Autistic.1011.jpg', 'Autistic.999.jpg', 'Non_Autistic.272.jpg', 'Non_Autistic.122.jpg', 'Non_Autistic.244.jpg', 'Non_Autistic.1222.jpg', 'Non_Autistic.1057.jpg', 'Non_Autistic.1238.jpg', 'Non_Autistic.1003.jpg', 'Autistic.891.jpg', 'Autistic.935.jpg', 'Non_Autistic.202.jpg', 'Autistic.943.jpg', 'Non_Autistic.13.jpg', 'Non_Autistic.1025.jpg', 'Non_Autistic.140.jpg', 'Non_Autistic.286.jpg', 'Non_Autistic.1081.jpg', 'Non_Autistic.1213.jpg', 'Autistic.930.jpg', 'Autistic.909.jpg', 'Non_Autistic.1126.jpg', 'Non_Autistic.1155.jpg', 'Autistic.907.jpg', 'Non_Autistic.1244.jpg', 'Autistic.973.jpg', 'Autistic.897.jpg', 'Non_Autistic.1136.jpg', 'Autistic.903.jpg', 'Autistic.970.jpg', 'Autistic.916.jpg', 'Non_Autistic.282.jpg', 'Autistic.993.jpg', 'Non_Autistic.144.jpg', 'Non_Autistic.189.jpg', 'Autistic.989.jpg', 'Non_Autistic.1061.jpg', 'Non_Autistic.1183.jpg', 'Non_Autistic.246.jpg', 'Non_Autistic.1239.jpg', 'Non_Autistic.121.jpg', 'Non_Autistic.1004.jpg', 'Autistic.932.jpg', 'Non_Autistic.1106.jpg', 'Non_Autistic.1176.jpg', 'Non_Autistic.1088.jpg', 'Non_Autistic.1098.jpg', 'Non_Autistic.291.jpg', 'Non_Autistic.179.jpg', 'Non_Autistic.296.jpg', 'Non_Autistic.1062.jpg', 'Non_Autistic.209.jpg', 'Non_Autistic.1156.jpg', 'Non_Autistic.19.jpg', 'Non_Autistic.1174.jpg', 'Autistic.91.jpg', 'Autistic.976.jpg', 'Non_Autistic.1084.jpg', 'Non_Autistic.1129.jpg', 'Non_Autistic.105.jpg', 'Autistic.893.jpg', 'Non_Autistic.1103.jpg', 'Non_Autistic.1262.jpg', 'Non_Autistic.285.jpg', 'Autistic.950.jpg', 'Non_Autistic.182.jpg', 'Non_Autistic.203.jpg', 'Non_Autistic.1017.jpg', 'Autistic.937.jpg', 'Non_Autistic.1063.jpg', 'Non_Autistic.298.jpg', 'Non_Autistic.1097.jpg', 'Non_Autistic.303.jpg', 'Non_Autistic.1252.jpg', 'Non_Autistic.136.jpg', 'Non_Autistic.1253.jpg', 'Non_Autistic.28.jpg', 'Non_Autistic.1203.jpg', 'Non_Autistic.273.jpg', 'Non_Autistic.1209.jpg', 'Non_Autistic.1100.jpg', 'Non_Autistic.222.jpg', 'Non_Autistic.1188.jpg', 'Non_Autistic.1021.jpg', 'Non_Autistic.128.jpg', 'Non_Autistic.1042.jpg', 'Non_Autistic.111.jpg', 'Non_Autistic.162.jpg', 'Non_Autistic.1247.jpg', 'Non_Autistic.1049.jpg', 'Non_Autistic.223.jpg', 'Autistic.961.jpg', 'Autistic.894.jpg', 'Non_Autistic.1264.jpg', 'Non_Autistic.236.jpg', 'Non_Autistic.1060.jpg', 'Non_Autistic.1227.jpg', 'Non_Autistic.1173.jpg', 'Autistic.914.jpg', 'Non_Autistic.185.jpg', 'Non_Autistic.1031.jpg', 'Autistic.90.jpg', 'Non_Autistic.1008.jpg', 'Autistic.982.jpg', 'Non_Autistic.170.jpg', 'Non_Autistic.220.jpg', 'Non_Autistic.1123.jpg', 'Autistic.992.jpg', 'Non_Autistic.1117.jpg', 'Non_Autistic.1259.jpg', 'Non_Autistic.1223.jpg', 'Non_Autistic.1172.jpg', 'Non_Autistic.206.jpg', 'Non_Autistic.26.jpg', 'Non_Autistic.107.jpg', 'Non_Autistic.261.jpg', 'Non_Autistic.1102.jpg', 'Non_Autistic.118.jpg', 'Non_Autistic.10.jpg', 'Non_Autistic.1093.jpg', 'Non_Autistic.1150.jpg', 'Non_Autistic.1071.jpg', 'Non_Autistic.1242.jpg', 'Non_Autistic.1141.jpg', 'Non_Autistic.249.jpg', 'Autistic.904.jpg', 'Non_Autistic.1144.jpg', 'Non_Autistic.24.jpg', 'Non_Autistic.159.jpg', 'Non_Autistic.300.jpg', 'Non_Autistic.1191.jpg', 'Non_Autistic.1010.jpg', 'Autistic.959.jpg', 'Non_Autistic.253.jpg', 'Non_Autistic.0.jpg', 'Non_Autistic.1139.jpg', 'Non_Autistic.1214.jpg', 'Non_Autistic.1091.jpg', 'Non_Autistic.243.jpg', 'Non_Autistic.1051.jpg', 'Non_Autistic.1151.jpg', 'Non_Autistic.165.jpg', 'Non_Autistic.126.jpg', 'Non_Autistic.255.jpg', 'Non_Autistic.1219.jpg', 'Non_Autistic.1040.jpg', 'Non_Autistic.143.jpg', 'Non_Autistic.234.jpg', 'Autistic.948.jpg', 'Non_Autistic.210.jpg', 'Non_Autistic.1054.jpg', 'Non_Autistic.269.jpg', 'Non_Autistic.1175.jpg', 'Non_Autistic.1014.jpg', 'Non_Autistic.1231.jpg', 'Non_Autistic.1258.jpg', 'Non_Autistic.1146.jpg', 'Non_Autistic.120.jpg', 'Autistic.908.jpg', 'Non_Autistic.108.jpg', 'Autistic.975.jpg', 'Non_Autistic.1032.jpg', 'Non_Autistic.1108.jpg', 'Autistic.17.jpg', 'Autistic.1158.jpg', 'Autistic.1215.jpg', 'Autistic.1030.jpg', 'Autistic.1197.jpg', 'Autistic.160.jpg', 'Autistic.180.jpg', 'Autistic.1089.jpg', 'Autistic.1174.jpg', 'Autistic.1141.jpg', 'Autistic.116.jpg', 'Autistic.1044.jpg', 'Autistic.105.jpg', 'Autistic.122.jpg', 'Autistic.1063.jpg', 'Autistic.1192.jpg', 'Autistic.1123.jpg', 'Autistic.1005.jpg', 'Autistic.1108.jpg', 'Autistic.148.jpg', 'Autistic.1231.jpg', 'Autistic.1104.jpg', 'Autistic.1031.jpg', 'Autistic.121.jpg', 'Autistic.1027.jpg', 'Autistic.1210.jpg', 'Autistic.1115.jpg', 'Autistic.1251.jpg', 'Autistic.1225.jpg', 'Autistic.1081.jpg', 'Autistic.1114.jpg', 'Autistic.1261.jpg', 'Autistic.175.jpg', 'Autistic.1039.jpg', 'Autistic.1133.jpg', 'Autistic.1066.jpg', 'Autistic.145.jpg', 'Autistic.1182.jpg', 'Autistic.1015.jpg', 'Autistic.108.jpg', 'Autistic.1073.jpg', 'Autistic.1060.jpg', 'Autistic.1175.jpg', 'Autistic.1176.jpg', 'Autistic.158.jpg', 'Autistic.1021.jpg', 'Autistic.1111.jpg', 'Autistic.1134.jpg', 'Autistic.172.jpg', 'Autistic.167.jpg', 'Autistic.1093.jpg', 'Autistic.1208.jpg', 'Autistic.1187.jpg', 'Autistic.112.jpg', 'Autistic.1000.jpg', 'Autistic.1228.jpg', 'Autistic.1153.jpg', 'Autistic.1148.jpg', 'Autistic.1136.jpg', 'Autistic.1142.jpg', 'Autistic.1113.jpg', 'Autistic.1139.jpg', 'Autistic.139.jpg', 'Autistic.1151.jpg', 'Autistic.1186.jpg', 'Autistic.1048.jpg', 'Autistic.129.jpg', 'Autistic.1195.jpg', 'Autistic.1016.jpg', 'Autistic.1023.jpg', 'Autistic.1238.jpg', 'Autistic.1180.jpg', 'Autistic.1034.jpg', 'Autistic.146.jpg', 'Autistic.1150.jpg', 'Autistic.1221.jpg', 'Autistic.1167.jpg', 'Autistic.136.jpg', 'Autistic.1013.jpg', 'Autistic.118.jpg', 'Autistic.1244.jpg', 'Autistic.152.jpg', 'Autistic.1025.jpg', 'Autistic.1105.jpg', 'Autistic.1087.jpg', 'Autistic.1224.jpg', 'Autistic.1121.jpg', 'Autistic.1147.jpg', 'Autistic.12.jpg', 'Autistic.1253.jpg', 'Autistic.1075.jpg', 'Autistic.103.jpg', 'Autistic.1214.jpg', 'Autistic.142.jpg', 'Autistic.1122.jpg', 'Autistic.104.jpg', 'Autistic.1057.jpg', 'Autistic.1178.jpg', 'Autistic.1166.jpg', 'Autistic.1126.jpg', 'Autistic.1255.jpg', 'Autistic.115.jpg', 'Autistic.1040.jpg', 'Autistic.173.jpg', 'Autistic.1135.jpg', 'Autistic.1254.jpg', 'Autistic.1226.jpg', 'Autistic.1112.jpg', 'Autistic.1095.jpg', 'Autistic.1161.jpg', 'Autistic.1201.jpg', 'Autistic.1092.jpg', 'Autistic.1072.jpg', 'Autistic.1076.jpg', 'Autistic.1168.jpg', 'Autistic.155.jpg', 'Autistic.1007.jpg', 'Autistic.1130.jpg', 'Autistic.1103.jpg', 'Autistic.0.jpg', 'Autistic.1128.jpg', 'Autistic.151.jpg', 'Autistic.1001.jpg', 'Autistic.1049.jpg', 'Autistic.1002.jpg', 'Autistic.1246.jpg', 'Autistic.1263.jpg', 'Autistic.170.jpg', 'Autistic.1024.jpg', 'Autistic.176.jpg', 'Autistic.1067.jpg', 'Autistic.1118.jpg', 'Autistic.1245.jpg', 'Autistic.1243.jpg', 'Autistic.147.jpg', 'Autistic.1014.jpg', 'Autistic.1258.jpg', 'Autistic.1028.jpg', 'Autistic.1096.jpg', 'Autistic.1207.jpg', 'Autistic.168.jpg', 'Autistic.141.jpg', 'Autistic.1209.jpg', 'Autistic.1211.jpg', 'Autistic.163.jpg', 'Autistic.1172.jpg', 'Autistic.1145.jpg', 'Autistic.1235.jpg', 'Autistic.1127.jpg', 'Autistic.1051.jpg', 'Autistic.1223.jpg', 'Autistic.128.jpg', 'Autistic.159.jpg', 'Autistic.1082.jpg', 'Autistic.1213.jpg', 'Autistic.109.jpg', 'Autistic.174.jpg', 'Autistic.1216.jpg', 'Autistic.125.jpg', 'Autistic.1143.jpg', 'Autistic.1.jpg', 'Autistic.140.jpg', 'Autistic.1259.jpg', 'Autistic.1137.jpg', 'Autistic.1080.jpg', 'Autistic.186.jpg', 'Autistic.1026.jpg', 'Autistic.1266.jpg', 'Autistic.1206.jpg', 'Autistic.1194.jpg', 'Autistic.1074.jpg', 'Autistic.127.jpg', 'Autistic.1120.jpg', 'Autistic.1236.jpg', 'Autistic.1056.jpg', 'Autistic.150.jpg', 'Autistic.135.jpg', 'Autistic.16.jpg', 'Autistic.1052.jpg', 'Autistic.1184.jpg', 'Autistic.1204.jpg', 'Autistic.1152.jpg', 'Autistic.1144.jpg', 'Autistic.1256.jpg', 'Autistic.14.jpg', 'Autistic.1199.jpg', 'Autistic.1062.jpg', 'Autistic.165.jpg', 'Autistic.1164.jpg', 'Autistic.1198.jpg', 'Autistic.1156.jpg', 'Autistic.1090.jpg', 'Autistic.1205.jpg', 'Autistic.1267.jpg', 'Autistic.171.jpg', 'Autistic.1053.jpg', 'Autistic.1011.jpg', 'Autistic.1129.jpg', 'Autistic.1240.jpg', 'Autistic.1131.jpg', 'Autistic.1189.jpg', 'Autistic.143.jpg', 'Autistic.1203.jpg', 'Autistic.1100.jpg', 'Autistic.1219.jpg', 'Autistic.1170.jpg', 'Autistic.1181.jpg', 'Autistic.1032.jpg', 'Autistic.18.jpg', 'Autistic.1183.jpg', 'Autistic.178.jpg', 'Autistic.1012.jpg', 'Autistic.13.jpg', 'Autistic.1064.jpg', 'Autistic.101.jpg', 'Autistic.1071.jpg', 'Autistic.1248.jpg', 'Autistic.166.jpg', 'Autistic.183.jpg', 'Autistic.1268.jpg', 'Autistic.1017.jpg', 'Autistic.1262.jpg', 'Autistic.162.jpg', 'Autistic.1138.jpg', 'Autistic.1169.jpg', 'Autistic.1117.jpg', 'Autistic.184.jpg', 'Autistic.1059.jpg', 'Autistic.1269.jpg', 'Autistic.11.jpg', 'Autistic.1083.jpg', 'Autistic.1229.jpg', 'Autistic.161.jpg', 'Autistic.1009.jpg', 'Autistic.1159.jpg', 'Autistic.157.jpg', 'Autistic.111.jpg', 'Autistic.1132.jpg', 'Autistic.1154.jpg', 'Autistic.1037.jpg', 'Autistic.1241.jpg', 'Autistic.1101.jpg', 'Autistic.1230.jpg', 'Autistic.1220.jpg', 'Autistic.107.jpg', 'Autistic.1078.jpg', 'Autistic.1146.jpg', 'Autistic.1069.jpg', 'Autistic.1047.jpg', 'Autistic.1036.jpg', 'Autistic.1006.jpg', 'Autistic.120.jpg', 'Autistic.102.jpg', 'Autistic.1179.jpg', 'Autistic.1157.jpg', 'Autistic.154.jpg', 'Autistic.1068.jpg', 'Autistic.1140.jpg', 'Autistic.1050.jpg', 'Autistic.133.jpg', 'Autistic.185.jpg', 'Autistic.1010.jpg', 'Autistic.124.jpg', 'Autistic.179.jpg', 'Autistic.132.jpg', 'Autistic.1003.jpg', 'Autistic.1054.jpg', 'Autistic.1260.jpg', 'Autistic.1173.jpg', 'Autistic.1252.jpg', 'Autistic.1196.jpg', 'Autistic.10.jpg', 'Autistic.113.jpg', 'Autistic.1041.jpg', 'Autistic.1102.jpg', 'Autistic.114.jpg', 'Autistic.1065.jpg', 'Autistic.1020.jpg', 'Autistic.1202.jpg', 'Autistic.110.jpg', 'Autistic.134.jpg', 'Autistic.1247.jpg', 'Autistic.1232.jpg', 'Autistic.1088.jpg', 'Autistic.1125.jpg', 'Autistic.1045.jpg', 'Autistic.187.jpg', 'Autistic.131.jpg', 'Autistic.1264.jpg', 'Autistic.1242.jpg', 'Autistic.1233.jpg', 'Autistic.177.jpg', 'Autistic.1149.jpg', 'Autistic.138.jpg', 'Autistic.1022.jpg', 'Autistic.1079.jpg', 'Autistic.1193.jpg', 'Autistic.1107.jpg', 'Autistic.1110.jpg', 'Autistic.100.jpg', 'Autistic.15.jpg', 'Autistic.1106.jpg', 'Autistic.1227.jpg', 'Autistic.1237.jpg', 'Autistic.1004.jpg', 'Autistic.1084.jpg', 'Autistic.119.jpg', 'Autistic.137.jpg', 'Autistic.1265.jpg', 'Autistic.1109.jpg', 'Autistic.117.jpg', 'Autistic.1188.jpg', 'Autistic.1029.jpg', 'Autistic.1086.jpg', 'Autistic.1008.jpg', 'Autistic.1058.jpg', 'Autistic.1190.jpg', 'Autistic.1162.jpg', 'Autistic.126.jpg', 'Autistic.106.jpg', 'Autistic.1160.jpg', 'Autistic.144.jpg', 'Autistic.130.jpg', 'Autistic.1033.jpg', 'Autistic.1018.jpg', 'Autistic.1155.jpg', 'Autistic.1099.jpg', 'Autistic.1124.jpg', 'Autistic.1257.jpg', 'Autistic.153.jpg', 'Autistic.1077.jpg', 'Autistic.1094.jpg', 'Autistic.1165.jpg', 'Autistic.1163.jpg', 'Autistic.1217.jpg', 'Autistic.1043.jpg', 'Autistic.1212.jpg', 'Autistic.181.jpg', 'Autistic.1019.jpg', 'Autistic.1046.jpg', 'Autistic.1185.jpg', 'Autistic.1218.jpg', 'Autistic.1249.jpg', 'Autistic.1171.jpg', 'Autistic.1055.jpg', 'Autistic.1061.jpg', 'Autistic.1177.jpg', 'Autistic.182.jpg', 'Autistic.1098.jpg', 'Autistic.1042.jpg', 'Autistic.149.jpg', 'Autistic.1091.jpg', 'Autistic.1250.jpg', 'Autistic.1191.jpg', 'Autistic.1200.jpg', 'Autistic.123.jpg', 'Autistic.1038.jpg', 'Autistic.1097.jpg', 'Autistic.1035.jpg', 'Autistic.1119.jpg', 'Autistic.1239.jpg', 'Autistic.1070.jpg', 'Autistic.164.jpg', 'Autistic.169.jpg', 'Autistic.1234.jpg', 'Autistic.156.jpg', 'Autistic.1085.jpg', 'Autistic.1222.jpg', 'Autistic.1116.jpg', 'Autistic.19.jpg', 'Autistic.508.jpg', 'Autistic.240.jpg', 'Autistic.487.jpg', 'Autistic.245.jpg', 'Autistic.198.jpg', 'Autistic.32.jpg', 'Autistic.456.jpg', 'Autistic.22.jpg', 'Autistic.396.jpg', 'Autistic.218.jpg', 'Autistic.192.jpg', 'Autistic.431.jpg', 'Autistic.254.jpg', 'Autistic.43.jpg', 'Autistic.464.jpg', 'Autistic.524.jpg', 'Autistic.536.jpg', 'Autistic.329.jpg', 'Autistic.401.jpg', 'Autistic.201.jpg', 'Autistic.501.jpg', 'Autistic.302.jpg', 'Autistic.289.jpg', 'Autistic.331.jpg', 'Autistic.290.jpg', 'Autistic.210.jpg', 'Autistic.320.jpg', 'Autistic.207.jpg', 'Autistic.29.jpg', 'Autistic.468.jpg', 'Autistic.283.jpg', 'Autistic.457.jpg', 'Autistic.373.jpg', 'Autistic.205.jpg', 'Autistic.298.jpg', 'Autistic.354.jpg', 'Autistic.230.jpg', 'Autistic.423.jpg', 'Autistic.519.jpg', 'Autistic.361.jpg', 'Autistic.319.jpg', 'Autistic.355.jpg', 'Autistic.20.jpg', 'Autistic.214.jpg', 'Autistic.39.jpg', 'Autistic.261.jpg', 'Autistic.340.jpg', 'Autistic.461.jpg', 'Autistic.2.jpg', 'Autistic.267.jpg', 'Autistic.397.jpg', 'Autistic.222.jpg', 'Autistic.215.jpg', 'Autistic.470.jpg', 'Autistic.460.jpg', 'Autistic.211.jpg', 'Autistic.309.jpg', 'Autistic.495.jpg', 'Autistic.455.jpg', 'Autistic.400.jpg', 'Autistic.271.jpg', 'Autistic.193.jpg', 'Autistic.353.jpg', 'Autistic.315.jpg', 'Autistic.436.jpg', 'Autistic.225.jpg', 'Autistic.451.jpg', 'Autistic.386.jpg', 'Autistic.342.jpg', 'Autistic.339.jpg', 'Autistic.484.jpg', 'Autistic.527.jpg', 'Autistic.368.jpg', 'Autistic.293.jpg', 'Autistic.220.jpg', 'Autistic.535.jpg', 'Autistic.44.jpg', 'Autistic.509.jpg', 'Autistic.528.jpg', 'Autistic.213.jpg', 'Autistic.360.jpg', 'Autistic.359.jpg', 'Autistic.370.jpg', 'Autistic.504.jpg', 'Autistic.336.jpg', 'Autistic.425.jpg', 'Autistic.304.jpg', 'Autistic.493.jpg', 'Autistic.442.jpg', 'Autistic.533.jpg', 'Autistic.31.jpg', 'Autistic.295.jpg', 'Autistic.498.jpg', 'Autistic.383.jpg', 'Autistic.53.jpg', 'Autistic.414.jpg', 'Autistic.190.jpg', 'Autistic.491.jpg', 'Autistic.440.jpg', 'Autistic.477.jpg', 'Autistic.299.jpg', 'Autistic.36.jpg', 'Autistic.272.jpg', 'Autistic.197.jpg', 'Autistic.522.jpg', 'Autistic.349.jpg', 'Autistic.394.jpg', 'Autistic.234.jpg', 'Autistic.308.jpg', 'Autistic.516.jpg', 'Autistic.4.jpg', 'Autistic.45.jpg', 'Autistic.416.jpg', 'Autistic.358.jpg', 'Autistic.322.jpg', 'Autistic.379.jpg', 'Autistic.50.jpg', 'Autistic.332.jpg', 'Autistic.348.jpg', 'Autistic.444.jpg', 'Autistic.227.jpg', 'Autistic.5.jpg', 'Autistic.499.jpg', 'Autistic.34.jpg', 'Autistic.514.jpg', 'Autistic.437.jpg', 'Autistic.219.jpg', 'Autistic.411.jpg', 'Autistic.256.jpg', 'Autistic.47.jpg', 'Autistic.472.jpg', 'Autistic.244.jpg', 'Autistic.395.jpg', 'Autistic.42.jpg', 'Autistic.398.jpg', 'Autistic.326.jpg', 'Autistic.489.jpg', 'Autistic.21.jpg', 'Autistic.530.jpg', 'Autistic.250.jpg', 'Autistic.538.jpg', 'Autistic.223.jpg', 'Autistic.3.jpg', 'Autistic.264.jpg', 'Autistic.310.jpg', 'Autistic.51.jpg', 'Autistic.481.jpg', 'Autistic.313.jpg', 'Autistic.485.jpg', 'Autistic.241.jpg', 'Autistic.435.jpg', 'Autistic.25.jpg', 'Autistic.243.jpg', 'Autistic.473.jpg', 'Autistic.529.jpg', 'Autistic.27.jpg', 'Autistic.381.jpg', 'Autistic.407.jpg', 'Autistic.410.jpg', 'Autistic.513.jpg', 'Autistic.418.jpg', 'Autistic.483.jpg', 'Autistic.404.jpg', 'Autistic.209.jpg', 'Autistic.327.jpg', 'Autistic.526.jpg', 'Autistic.384.jpg', 'Autistic.376.jpg', 'Autistic.452.jpg', 'Autistic.385.jpg']\n"
          ]
        }
      ]
    },
    {
      "cell_type": "code",
      "source": [
        "#U-net\n",
        "model = tf.keras.Sequential([\n",
        "    tf.keras.layers.Conv2D(32,(3,3), activation ='relu', input_shape=(256,256,3)),\n",
        "    tf.keras.layers.MaxPooling2D((2,2)),\n",
        "    tf.keras.layers.Conv2D(64,(3,3), activation='relu'),\n",
        "    tf.keras.layers.MaxPooling2D((2,2)),\n",
        "    tf.keras.layers.Conv2D(128,(3,3), activation='relu'),\n",
        "    tf.keras.layers.MaxPooling2D((2,2)),\n",
        "    tf.keras.layers.Flatten(),\n",
        "    tf.keras.layers.Dense(128,activation='relu'),\n",
        "    tf.keras.layers.Dense(1, activation='sigmoid')\n",
        "])\n",
        "\n"
      ],
      "metadata": {
        "id": "fXjf8lfygxHl"
      },
      "execution_count": 51,
      "outputs": []
    },
    {
      "cell_type": "code",
      "source": [
        "#compile\n",
        "model.compile(optimizer='adam', loss='binary_crossentropy', metrics=['accuracy'])"
      ],
      "metadata": {
        "id": "ogMogPlv-vD8"
      },
      "execution_count": 52,
      "outputs": []
    },
    {
      "cell_type": "code",
      "source": [
        "#log\n",
        "model.summary(print_fn=lambda x:experiment.log_text(x))\n"
      ],
      "metadata": {
        "id": "jCBG_rD_8X-v"
      },
      "execution_count": 53,
      "outputs": []
    },
    {
      "cell_type": "code",
      "source": [
        "history = model.fit(\n",
        "    train_images,train_labels,\n",
        "    epochs=10,\n",
        "    batch_size= 32,\n",
        "    validation_data=(valid_images, valid_labels),\n",
        "    callbacks=[experiment.get_callback('keras')]\n",
        ")\n",
        "\n"
      ],
      "metadata": {
        "colab": {
          "base_uri": "https://localhost:8080/"
        },
        "id": "0zfp6AnU8mld",
        "outputId": "da8182db-eb94-41a0-f299-6f0a1cd29304"
      },
      "execution_count": 54,
      "outputs": [
        {
          "output_type": "stream",
          "name": "stderr",
          "text": [
            "\u001b[1;38;5;39mCOMET INFO:\u001b[0m Ignoring automatic log_parameter('verbose') because 'keras:verbose' is in COMET_LOGGING_PARAMETERS_IGNORE\n"
          ]
        },
        {
          "output_type": "stream",
          "name": "stdout",
          "text": [
            "Epoch 1/10\n",
            "80/80 [==============================] - 425s 5s/step - loss: 0.0084 - accuracy: 1.0000 - val_loss: 0.0000e+00 - val_accuracy: 1.0000\n",
            "Epoch 2/10\n",
            "80/80 [==============================] - 421s 5s/step - loss: 0.0000e+00 - accuracy: 1.0000 - val_loss: 0.0000e+00 - val_accuracy: 1.0000\n",
            "Epoch 3/10\n",
            "80/80 [==============================] - 412s 5s/step - loss: 0.0000e+00 - accuracy: 1.0000 - val_loss: 0.0000e+00 - val_accuracy: 1.0000\n",
            "Epoch 4/10\n",
            "80/80 [==============================] - 418s 5s/step - loss: 0.0000e+00 - accuracy: 1.0000 - val_loss: 0.0000e+00 - val_accuracy: 1.0000\n",
            "Epoch 5/10\n",
            "80/80 [==============================] - 410s 5s/step - loss: 0.0000e+00 - accuracy: 1.0000 - val_loss: 0.0000e+00 - val_accuracy: 1.0000\n",
            "Epoch 6/10\n",
            "80/80 [==============================] - 416s 5s/step - loss: 0.0000e+00 - accuracy: 1.0000 - val_loss: 0.0000e+00 - val_accuracy: 1.0000\n",
            "Epoch 7/10\n",
            "80/80 [==============================] - 414s 5s/step - loss: 0.0000e+00 - accuracy: 1.0000 - val_loss: 0.0000e+00 - val_accuracy: 1.0000\n",
            "Epoch 8/10\n",
            "80/80 [==============================] - 417s 5s/step - loss: 0.0000e+00 - accuracy: 1.0000 - val_loss: 0.0000e+00 - val_accuracy: 1.0000\n",
            "Epoch 9/10\n",
            "80/80 [==============================] - 418s 5s/step - loss: 0.0000e+00 - accuracy: 1.0000 - val_loss: 0.0000e+00 - val_accuracy: 1.0000\n",
            "Epoch 10/10\n",
            "80/80 [==============================] - 411s 5s/step - loss: 0.0000e+00 - accuracy: 1.0000 - val_loss: 0.0000e+00 - val_accuracy: 1.0000\n"
          ]
        }
      ]
    },
    {
      "cell_type": "code",
      "source": [
        "test_loss, test_acc = model.evaluate(test_images,test_labels)\n",
        "print(f'Test accuracy: {test_acc}')\n"
      ],
      "metadata": {
        "colab": {
          "base_uri": "https://localhost:8080/"
        },
        "id": "E_aNtP3C-SeM",
        "outputId": "294aefde-4596-4893-df0c-d3fb32e45170"
      },
      "execution_count": 55,
      "outputs": [
        {
          "output_type": "stream",
          "name": "stdout",
          "text": [
            "10/10 [==============================] - 13s 1s/step - loss: 0.0000e+00 - accuracy: 1.0000\n",
            "Test accuracy: 1.0\n"
          ]
        }
      ]
    },
    {
      "cell_type": "code",
      "source": [
        "experiment.log_metric(\"test_accuracy\", test_acc)"
      ],
      "metadata": {
        "id": "IsjvHtER-TtJ"
      },
      "execution_count": 56,
      "outputs": []
    },
    {
      "cell_type": "code",
      "source": [
        "experiment.end()"
      ],
      "metadata": {
        "colab": {
          "base_uri": "https://localhost:8080/"
        },
        "id": "JMaS5-Ek-d2Q",
        "outputId": "81ad3f20-2447-4964-d1cb-d12ee12aee99"
      },
      "execution_count": 57,
      "outputs": [
        {
          "output_type": "stream",
          "name": "stderr",
          "text": [
            "\u001b[1;38;5;39mCOMET INFO:\u001b[0m ---------------------------------------------------------------------------------------\n",
            "\u001b[1;38;5;39mCOMET INFO:\u001b[0m Comet.ml Experiment Summary\n",
            "\u001b[1;38;5;39mCOMET INFO:\u001b[0m ---------------------------------------------------------------------------------------\n",
            "\u001b[1;38;5;39mCOMET INFO:\u001b[0m   Data:\n",
            "\u001b[1;38;5;39mCOMET INFO:\u001b[0m     display_summary_level : 1\n",
            "\u001b[1;38;5;39mCOMET INFO:\u001b[0m     url                   : https://www.comet.com/jerryheisenberg/autism-detection-system/c44bed3ba8a646d2843bb59cd7b3d141\n",
            "\u001b[1;38;5;39mCOMET INFO:\u001b[0m   Metrics [count] (min, max):\n",
            "\u001b[1;38;5;39mCOMET INFO:\u001b[0m     accuracy                : 1.0\n",
            "\u001b[1;38;5;39mCOMET INFO:\u001b[0m     batch_accuracy          : 1.0\n",
            "\u001b[1;38;5;39mCOMET INFO:\u001b[0m     batch_loss [80]         : (0.0, 0.6655035018920898)\n",
            "\u001b[1;38;5;39mCOMET INFO:\u001b[0m     epoch_duration [10]     : (410.26544262400057, 424.8255151049998)\n",
            "\u001b[1;38;5;39mCOMET INFO:\u001b[0m     loss [10]               : (0.0, 0.008384299464523792)\n",
            "\u001b[1;38;5;39mCOMET INFO:\u001b[0m     test_accuracy           : 1.0\n",
            "\u001b[1;38;5;39mCOMET INFO:\u001b[0m     val_accuracy            : 1.0\n",
            "\u001b[1;38;5;39mCOMET INFO:\u001b[0m     val_loss                : 0.0\n",
            "\u001b[1;38;5;39mCOMET INFO:\u001b[0m     validate_batch_accuracy : 1.0\n",
            "\u001b[1;38;5;39mCOMET INFO:\u001b[0m     validate_batch_loss     : 0.0\n",
            "\u001b[1;38;5;39mCOMET INFO:\u001b[0m   Others:\n",
            "\u001b[1;38;5;39mCOMET INFO:\u001b[0m     trainable_params : 14839105\n",
            "\u001b[1;38;5;39mCOMET INFO:\u001b[0m   Parameters:\n",
            "\u001b[1;38;5;39mCOMET INFO:\u001b[0m     Adam_amsgrad                 : False\n",
            "\u001b[1;38;5;39mCOMET INFO:\u001b[0m     Adam_beta_1                  : 0.9\n",
            "\u001b[1;38;5;39mCOMET INFO:\u001b[0m     Adam_beta_2                  : 0.999\n",
            "\u001b[1;38;5;39mCOMET INFO:\u001b[0m     Adam_clipnorm                : None\n",
            "\u001b[1;38;5;39mCOMET INFO:\u001b[0m     Adam_clipvalue               : None\n",
            "\u001b[1;38;5;39mCOMET INFO:\u001b[0m     Adam_ema_momentum            : 0.99\n",
            "\u001b[1;38;5;39mCOMET INFO:\u001b[0m     Adam_ema_overwrite_frequency : None\n",
            "\u001b[1;38;5;39mCOMET INFO:\u001b[0m     Adam_epsilon                 : 1e-07\n",
            "\u001b[1;38;5;39mCOMET INFO:\u001b[0m     Adam_global_clipnorm         : None\n",
            "\u001b[1;38;5;39mCOMET INFO:\u001b[0m     Adam_is_legacy_optimizer     : False\n",
            "\u001b[1;38;5;39mCOMET INFO:\u001b[0m     Adam_jit_compile             : False\n",
            "\u001b[1;38;5;39mCOMET INFO:\u001b[0m     Adam_learning_rate           : 0.0010000000474974513\n",
            "\u001b[1;38;5;39mCOMET INFO:\u001b[0m     Adam_name                    : Adam\n",
            "\u001b[1;38;5;39mCOMET INFO:\u001b[0m     Adam_use_ema                 : False\n",
            "\u001b[1;38;5;39mCOMET INFO:\u001b[0m     Adam_weight_decay            : None\n",
            "\u001b[1;38;5;39mCOMET INFO:\u001b[0m     Optimizer                    : Adam\n",
            "\u001b[1;38;5;39mCOMET INFO:\u001b[0m     epochs                       : 10\n",
            "\u001b[1;38;5;39mCOMET INFO:\u001b[0m     steps                        : 80\n",
            "\u001b[1;38;5;39mCOMET INFO:\u001b[0m     test_data_path               : /content/drive/MyDrive/AutismDataset/test\n",
            "\u001b[1;38;5;39mCOMET INFO:\u001b[0m     training_data_path           : /content/drive/MyDrive/AutismDataset/train\n",
            "\u001b[1;38;5;39mCOMET INFO:\u001b[0m     validation_data_path         : /content/drive/MyDrive/AutismDataset/valid\n",
            "\u001b[1;38;5;39mCOMET INFO:\u001b[0m   Uploads:\n",
            "\u001b[1;38;5;39mCOMET INFO:\u001b[0m     environment details : 1\n",
            "\u001b[1;38;5;39mCOMET INFO:\u001b[0m     filename            : 1\n",
            "\u001b[1;38;5;39mCOMET INFO:\u001b[0m     installed packages  : 1\n",
            "\u001b[1;38;5;39mCOMET INFO:\u001b[0m     model graph         : 1\n",
            "\u001b[1;38;5;39mCOMET INFO:\u001b[0m     notebook            : 2\n",
            "\u001b[1;38;5;39mCOMET INFO:\u001b[0m     os packages         : 1\n",
            "\u001b[1;38;5;39mCOMET INFO:\u001b[0m     source_code         : 1\n",
            "\u001b[1;38;5;39mCOMET INFO:\u001b[0m     text-sample         : 150\n",
            "\u001b[1;38;5;39mCOMET INFO:\u001b[0m \n"
          ]
        }
      ]
    }
  ]
}