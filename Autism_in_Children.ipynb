{
  "nbformat": 4,
  "nbformat_minor": 0,
  "metadata": {
    "colab": {
      "provenance": [],
      "mount_file_id": "1EkNcVpkQRt5yyY3hF-dYYP64O788LUIP",
      "authorship_tag": "ABX9TyNLADlM2OwvvgM1Xt+85DqD",
      "include_colab_link": true
    },
    "kernelspec": {
      "name": "python3",
      "display_name": "Python 3"
    },
    "language_info": {
      "name": "python"
    }
  },
  "cells": [
    {
      "cell_type": "markdown",
      "metadata": {
        "id": "view-in-github",
        "colab_type": "text"
      },
      "source": [
        "<a href=\"https://colab.research.google.com/github/jerryHeisenberg/Final-Projects/blob/main/Autism_in_Children.ipynb\" target=\"_parent\"><img src=\"https://colab.research.google.com/assets/colab-badge.svg\" alt=\"Open In Colab\"/></a>"
      ]
    },
    {
      "cell_type": "code",
      "execution_count": null,
      "metadata": {
        "id": "F_Zm_tQtAmVz"
      },
      "outputs": [],
      "source": [
        "!pip install comet_ml > /dev/null 2>&1"
      ]
    },
    {
      "cell_type": "code",
      "source": [
        "from comet_ml import Experiment\n",
        "import tensorflow as tf\n",
        "import numpy as np\n",
        "import os\n",
        "import cv2\n",
        "from google.colab import drive\n",
        "drive.mount('/content/drive/', force_remount=True)\n"
      ],
      "metadata": {
        "colab": {
          "base_uri": "https://localhost:8080/"
        },
        "id": "1EUCCmpTBM7T",
        "outputId": "a9a16f23-8877-438a-cc14-086f9431f16d"
      },
      "execution_count": null,
      "outputs": [
        {
          "output_type": "stream",
          "name": "stdout",
          "text": [
            "Mounted at /content/drive/\n"
          ]
        }
      ]
    },
    {
      "cell_type": "code",
      "source": [
        "def load_images_data_from_directory(directory, target_size=(256,256)):\n",
        "  images=[]\n",
        "  labels =[]\n",
        "  for root,_, files in os.walk(directory):\n",
        "    for filename in files:\n",
        "      if filename.endswith(\".jpg\"):\n",
        "        label_name = os.path.basename(os.path.dirname(root))\n",
        "        label= 1 if label_name == \"Autistic\" else 0\n",
        "        img_path = os.path.join(root,filename)\n",
        "        img = cv2.imread(img_path)\n",
        "        img = cv2.resize(img, target_size)\n",
        "        img =img.astype('float32')/255.0\n",
        "        images.append(img)\n",
        "        labels.append(label)\n",
        "  return np.array(images), np.array(labels)\n"
      ],
      "metadata": {
        "id": "U1K-NUkVc0jx"
      },
      "execution_count": null,
      "outputs": []
    },
    {
      "cell_type": "code",
      "source": [
        "experiment = Experiment(api_key = \"fjasnw5RFV2HeIVIdLDhHpdyk\",\n",
        "                        project_name=\"Autism Detection System\")\n"
      ],
      "metadata": {
        "colab": {
          "base_uri": "https://localhost:8080/"
        },
        "id": "hq5ZsZmAUCVv",
        "outputId": "fcd49ece-8863-4498-ecae-9a479ed574a3"
      },
      "execution_count": null,
      "outputs": [
        {
          "output_type": "stream",
          "name": "stderr",
          "text": [
            "\u001b[1;38;5;214mCOMET WARNING:\u001b[0m As you are running in a Jupyter environment, you will need to call `experiment.end()` when finished to ensure all metrics and code are logged before exiting.\n",
            "\u001b[1;38;5;39mCOMET INFO:\u001b[0m Couldn't find a Git repository in '/content' nor in any parent directory. Set `COMET_GIT_DIRECTORY` if your Git Repository is elsewhere.\n",
            "\u001b[1;38;5;39mCOMET INFO:\u001b[0m Experiment is live on comet.com https://www.comet.com/jerryheisenberg/autism-detection-system/c44bed3ba8a646d2843bb59cd7b3d141\n",
            "\n"
          ]
        }
      ]
    },
    {
      "cell_type": "code",
      "source": [
        "experiment.log_parameter(\"training_data_path\", \"/content/drive/MyDrive/AutismDataset/train\")\n",
        "experiment.log_parameter(\"validation_data_path\",\"/content/drive/MyDrive/AutismDataset/valid\")\n",
        "experiment.log_parameter(\"test_data_path\",\"/content/drive/MyDrive/AutismDataset/test\")\n"
      ],
      "metadata": {
        "id": "3VWDRBSVVc8H"
      },
      "execution_count": null,
      "outputs": []
    },
    {
      "cell_type": "code",
      "source": [
        "train_images,train_labels = load_images_data_from_directory(\"/content/drive/MyDrive/AutismDataset/train\")\n",
        "print(\"train images shape:\", train_images.shape)\n",
        "print(\"Train labels shape:\", train_labels.shape)\n",
        "valid_images,valid_labels = load_images_data_from_directory(\"/content/drive/MyDrive/AutismDataset/valid\")\n",
        "print(\"Valid images shape:\", valid_images.shape)\n",
        "print(\"Valid labels shape:\", valid_labels.shape)\n",
        "test_images,test_labels = load_images_data_from_directory(\"/content/drive/MyDrive/AutismDataset/test\")\n",
        "print(\"test images shape:\", test_images.shape)\n",
        "print(\"Test labels shape:\", test_labels.shape)"
      ],
      "metadata": {
        "colab": {
          "base_uri": "https://localhost:8080/"
        },
        "id": "zTfw1NsPfgs5",
        "outputId": "9bff55a9-d82f-44c8-f4e9-7b032b399a95"
      },
      "execution_count": null,
      "outputs": [
        {
          "output_type": "stream",
          "name": "stdout",
          "text": [
            "train images shape: (2540, 256, 256, 3)\n",
            "Train labels shape: (2540,)\n",
            "Valid images shape: (100, 256, 256, 3)\n",
            "Valid labels shape: (100,)\n",
            "test images shape: (300, 256, 256, 3)\n",
            "Test labels shape: (300,)\n"
          ]
        }
      ]
    },
    {
      "cell_type": "code",
      "source": [
        "#U-net\n",
        "model = tf.keras.Sequential([\n",
        "    tf.keras.layers.Conv2D(32,(3,3), activation ='relu', input_shape=(256,256,3)),\n",
        "    tf.keras.layers.MaxPooling2D((2,2)),\n",
        "    tf.keras.layers.Conv2D(64,(3,3), activation='relu'),\n",
        "    tf.keras.layers.MaxPooling2D((2,2)),\n",
        "    tf.keras.layers.Conv2D(128,(3,3), activation='relu'),\n",
        "    tf.keras.layers.MaxPooling2D((2,2)),\n",
        "    tf.keras.layers.Flatten(),\n",
        "    tf.keras.layers.Dense(128,activation='relu'),\n",
        "    tf.keras.layers.Dense(1, activation='sigmoid')\n",
        "])\n",
        "\n"
      ],
      "metadata": {
        "id": "fXjf8lfygxHl"
      },
      "execution_count": null,
      "outputs": []
    },
    {
      "cell_type": "code",
      "source": [
        "#compile\n",
        "model.compile(optimizer='adam', loss='binary_crossentropy', metrics=['accuracy'])"
      ],
      "metadata": {
        "id": "ogMogPlv-vD8"
      },
      "execution_count": null,
      "outputs": []
    },
    {
      "cell_type": "code",
      "source": [
        "#log\n",
        "model.summary(print_fn=lambda x:experiment.log_text(x))\n"
      ],
      "metadata": {
        "id": "jCBG_rD_8X-v"
      },
      "execution_count": null,
      "outputs": []
    },
    {
      "cell_type": "code",
      "source": [
        "history = model.fit(\n",
        "    train_images,train_labels,\n",
        "    epochs=10,\n",
        "    batch_size= 32,\n",
        "    validation_data=(valid_images, valid_labels),\n",
        "    callbacks=[experiment.get_callback('keras')]\n",
        ")\n",
        "\n"
      ],
      "metadata": {
        "colab": {
          "base_uri": "https://localhost:8080/"
        },
        "id": "0zfp6AnU8mld",
        "outputId": "da8182db-eb94-41a0-f299-6f0a1cd29304"
      },
      "execution_count": null,
      "outputs": [
        {
          "output_type": "stream",
          "name": "stderr",
          "text": [
            "\u001b[1;38;5;39mCOMET INFO:\u001b[0m Ignoring automatic log_parameter('verbose') because 'keras:verbose' is in COMET_LOGGING_PARAMETERS_IGNORE\n"
          ]
        },
        {
          "output_type": "stream",
          "name": "stdout",
          "text": [
            "Epoch 1/10\n",
            "80/80 [==============================] - 425s 5s/step - loss: 0.0084 - accuracy: 1.0000 - val_loss: 0.0000e+00 - val_accuracy: 1.0000\n",
            "Epoch 2/10\n",
            "80/80 [==============================] - 421s 5s/step - loss: 0.0000e+00 - accuracy: 1.0000 - val_loss: 0.0000e+00 - val_accuracy: 1.0000\n",
            "Epoch 3/10\n",
            "80/80 [==============================] - 412s 5s/step - loss: 0.0000e+00 - accuracy: 1.0000 - val_loss: 0.0000e+00 - val_accuracy: 1.0000\n",
            "Epoch 4/10\n",
            "80/80 [==============================] - 418s 5s/step - loss: 0.0000e+00 - accuracy: 1.0000 - val_loss: 0.0000e+00 - val_accuracy: 1.0000\n",
            "Epoch 5/10\n",
            "80/80 [==============================] - 410s 5s/step - loss: 0.0000e+00 - accuracy: 1.0000 - val_loss: 0.0000e+00 - val_accuracy: 1.0000\n",
            "Epoch 6/10\n",
            "80/80 [==============================] - 416s 5s/step - loss: 0.0000e+00 - accuracy: 1.0000 - val_loss: 0.0000e+00 - val_accuracy: 1.0000\n",
            "Epoch 7/10\n",
            "80/80 [==============================] - 414s 5s/step - loss: 0.0000e+00 - accuracy: 1.0000 - val_loss: 0.0000e+00 - val_accuracy: 1.0000\n",
            "Epoch 8/10\n",
            "80/80 [==============================] - 417s 5s/step - loss: 0.0000e+00 - accuracy: 1.0000 - val_loss: 0.0000e+00 - val_accuracy: 1.0000\n",
            "Epoch 9/10\n",
            "80/80 [==============================] - 418s 5s/step - loss: 0.0000e+00 - accuracy: 1.0000 - val_loss: 0.0000e+00 - val_accuracy: 1.0000\n",
            "Epoch 10/10\n",
            "80/80 [==============================] - 411s 5s/step - loss: 0.0000e+00 - accuracy: 1.0000 - val_loss: 0.0000e+00 - val_accuracy: 1.0000\n"
          ]
        }
      ]
    },
    {
      "cell_type": "code",
      "source": [
        "test_loss, test_acc = model.evaluate(test_images,test_labels)\n",
        "print(f'Test accuracy: {test_acc}')\n"
      ],
      "metadata": {
        "colab": {
          "base_uri": "https://localhost:8080/"
        },
        "id": "E_aNtP3C-SeM",
        "outputId": "294aefde-4596-4893-df0c-d3fb32e45170"
      },
      "execution_count": null,
      "outputs": [
        {
          "output_type": "stream",
          "name": "stdout",
          "text": [
            "10/10 [==============================] - 13s 1s/step - loss: 0.0000e+00 - accuracy: 1.0000\n",
            "Test accuracy: 1.0\n"
          ]
        }
      ]
    },
    {
      "cell_type": "code",
      "source": [
        "experiment.log_metric(\"test_accuracy\", test_acc)"
      ],
      "metadata": {
        "id": "IsjvHtER-TtJ"
      },
      "execution_count": null,
      "outputs": []
    },
    {
      "cell_type": "code",
      "source": [
        "experiment.end()"
      ],
      "metadata": {
        "colab": {
          "base_uri": "https://localhost:8080/"
        },
        "id": "JMaS5-Ek-d2Q",
        "outputId": "81ad3f20-2447-4964-d1cb-d12ee12aee99"
      },
      "execution_count": null,
      "outputs": [
        {
          "output_type": "stream",
          "name": "stderr",
          "text": [
            "\u001b[1;38;5;39mCOMET INFO:\u001b[0m ---------------------------------------------------------------------------------------\n",
            "\u001b[1;38;5;39mCOMET INFO:\u001b[0m Comet.ml Experiment Summary\n",
            "\u001b[1;38;5;39mCOMET INFO:\u001b[0m ---------------------------------------------------------------------------------------\n",
            "\u001b[1;38;5;39mCOMET INFO:\u001b[0m   Data:\n",
            "\u001b[1;38;5;39mCOMET INFO:\u001b[0m     display_summary_level : 1\n",
            "\u001b[1;38;5;39mCOMET INFO:\u001b[0m     url                   : https://www.comet.com/jerryheisenberg/autism-detection-system/c44bed3ba8a646d2843bb59cd7b3d141\n",
            "\u001b[1;38;5;39mCOMET INFO:\u001b[0m   Metrics [count] (min, max):\n",
            "\u001b[1;38;5;39mCOMET INFO:\u001b[0m     accuracy                : 1.0\n",
            "\u001b[1;38;5;39mCOMET INFO:\u001b[0m     batch_accuracy          : 1.0\n",
            "\u001b[1;38;5;39mCOMET INFO:\u001b[0m     batch_loss [80]         : (0.0, 0.6655035018920898)\n",
            "\u001b[1;38;5;39mCOMET INFO:\u001b[0m     epoch_duration [10]     : (410.26544262400057, 424.8255151049998)\n",
            "\u001b[1;38;5;39mCOMET INFO:\u001b[0m     loss [10]               : (0.0, 0.008384299464523792)\n",
            "\u001b[1;38;5;39mCOMET INFO:\u001b[0m     test_accuracy           : 1.0\n",
            "\u001b[1;38;5;39mCOMET INFO:\u001b[0m     val_accuracy            : 1.0\n",
            "\u001b[1;38;5;39mCOMET INFO:\u001b[0m     val_loss                : 0.0\n",
            "\u001b[1;38;5;39mCOMET INFO:\u001b[0m     validate_batch_accuracy : 1.0\n",
            "\u001b[1;38;5;39mCOMET INFO:\u001b[0m     validate_batch_loss     : 0.0\n",
            "\u001b[1;38;5;39mCOMET INFO:\u001b[0m   Others:\n",
            "\u001b[1;38;5;39mCOMET INFO:\u001b[0m     trainable_params : 14839105\n",
            "\u001b[1;38;5;39mCOMET INFO:\u001b[0m   Parameters:\n",
            "\u001b[1;38;5;39mCOMET INFO:\u001b[0m     Adam_amsgrad                 : False\n",
            "\u001b[1;38;5;39mCOMET INFO:\u001b[0m     Adam_beta_1                  : 0.9\n",
            "\u001b[1;38;5;39mCOMET INFO:\u001b[0m     Adam_beta_2                  : 0.999\n",
            "\u001b[1;38;5;39mCOMET INFO:\u001b[0m     Adam_clipnorm                : None\n",
            "\u001b[1;38;5;39mCOMET INFO:\u001b[0m     Adam_clipvalue               : None\n",
            "\u001b[1;38;5;39mCOMET INFO:\u001b[0m     Adam_ema_momentum            : 0.99\n",
            "\u001b[1;38;5;39mCOMET INFO:\u001b[0m     Adam_ema_overwrite_frequency : None\n",
            "\u001b[1;38;5;39mCOMET INFO:\u001b[0m     Adam_epsilon                 : 1e-07\n",
            "\u001b[1;38;5;39mCOMET INFO:\u001b[0m     Adam_global_clipnorm         : None\n",
            "\u001b[1;38;5;39mCOMET INFO:\u001b[0m     Adam_is_legacy_optimizer     : False\n",
            "\u001b[1;38;5;39mCOMET INFO:\u001b[0m     Adam_jit_compile             : False\n",
            "\u001b[1;38;5;39mCOMET INFO:\u001b[0m     Adam_learning_rate           : 0.0010000000474974513\n",
            "\u001b[1;38;5;39mCOMET INFO:\u001b[0m     Adam_name                    : Adam\n",
            "\u001b[1;38;5;39mCOMET INFO:\u001b[0m     Adam_use_ema                 : False\n",
            "\u001b[1;38;5;39mCOMET INFO:\u001b[0m     Adam_weight_decay            : None\n",
            "\u001b[1;38;5;39mCOMET INFO:\u001b[0m     Optimizer                    : Adam\n",
            "\u001b[1;38;5;39mCOMET INFO:\u001b[0m     epochs                       : 10\n",
            "\u001b[1;38;5;39mCOMET INFO:\u001b[0m     steps                        : 80\n",
            "\u001b[1;38;5;39mCOMET INFO:\u001b[0m     test_data_path               : /content/drive/MyDrive/AutismDataset/test\n",
            "\u001b[1;38;5;39mCOMET INFO:\u001b[0m     training_data_path           : /content/drive/MyDrive/AutismDataset/train\n",
            "\u001b[1;38;5;39mCOMET INFO:\u001b[0m     validation_data_path         : /content/drive/MyDrive/AutismDataset/valid\n",
            "\u001b[1;38;5;39mCOMET INFO:\u001b[0m   Uploads:\n",
            "\u001b[1;38;5;39mCOMET INFO:\u001b[0m     environment details : 1\n",
            "\u001b[1;38;5;39mCOMET INFO:\u001b[0m     filename            : 1\n",
            "\u001b[1;38;5;39mCOMET INFO:\u001b[0m     installed packages  : 1\n",
            "\u001b[1;38;5;39mCOMET INFO:\u001b[0m     model graph         : 1\n",
            "\u001b[1;38;5;39mCOMET INFO:\u001b[0m     notebook            : 2\n",
            "\u001b[1;38;5;39mCOMET INFO:\u001b[0m     os packages         : 1\n",
            "\u001b[1;38;5;39mCOMET INFO:\u001b[0m     source_code         : 1\n",
            "\u001b[1;38;5;39mCOMET INFO:\u001b[0m     text-sample         : 150\n",
            "\u001b[1;38;5;39mCOMET INFO:\u001b[0m \n"
          ]
        }
      ]
    }
  ]
}